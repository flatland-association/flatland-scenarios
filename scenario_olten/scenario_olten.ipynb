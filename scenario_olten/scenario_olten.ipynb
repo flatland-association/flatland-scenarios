{
 "cells": [
  {
   "cell_type": "markdown",
   "metadata": {},
   "source": [
    "# Scenario Olten"
   ]
  },
  {
   "cell_type": "markdown",
   "metadata": {},
   "source": [
    "Overview of needed variables:\n",
    "\n",
    "- olten_grid: Type = List[List[Int]]\n",
    "- level_free_positions: Type = Set[Tuple[Int, Int]]\n",
    "- olten_coordinate_map: Dict[Tuple[Int, Int]: Tuple[Float, Float]]\n",
    "- olten_line: Type = Line\n",
    "- olten_timetable: Type = Timetable\n",
    "\n",
    "Variables for alternative scenario \"disruption\" (blocked line):\n",
    "- olten_grid_disrupted: Type = List[List[Int]]\n",
    "\n",
    "Variables for alternative scenario \"partially closed station\" (only 3/10 lines open):\n",
    "- olten_grid_partially_closed_station: Type = List[List[Int]]\n",
    "- olten_line_partially_closed_station: Type = Line\n",
    "- olten_timetable_partially_closed_station: Type = Timetable"
   ]
  },
  {
   "cell_type": "code",
   "execution_count": null,
   "metadata": {},
   "outputs": [],
   "source": [
    "import sys\n",
    "import os\n",
    "# sys.path.insert(0, os.path.abspath(\"../../flatland-rl/\"))  # noqa:E402"
   ]
  },
  {
   "cell_type": "code",
   "execution_count": null,
   "metadata": {},
   "outputs": [],
   "source": [
    "%load_ext autoreload\n",
    "%autoreload 2"
   ]
  },
  {
   "cell_type": "code",
   "execution_count": null,
   "metadata": {},
   "outputs": [],
   "source": [
    "import pickle\n",
    "import numpy as np"
   ]
  },
  {
   "cell_type": "code",
   "execution_count": null,
   "metadata": {},
   "outputs": [],
   "source": [
    "from IPython.display import display, HTML\n",
    "display(HTML(\"<style>.container { width:80% !important; }</style>\"))\n",
    "from IPython.display import Image"
   ]
  },
  {
   "cell_type": "markdown",
   "metadata": {},
   "source": [
    "## Helper functions"
   ]
  },
  {
   "cell_type": "code",
   "execution_count": null,
   "metadata": {},
   "outputs": [],
   "source": [
    "from flatland.core.grid.rail_env_grid import RailEnvTransitions, RailEnvTransitionsEnum\n",
    "\n",
    "elements = {\n",
    "    'north': {\n",
    "        'empty': {'element': RailEnvTransitionsEnum.empty, 'orientation': 'north'},\n",
    "        'n': {'element': RailEnvTransitionsEnum.vertical_straight, 'orientation': 'north'},\n",
    "        'w': {'element': RailEnvTransitionsEnum.right_turn_from_west, 'orientation': 'west'},\n",
    "        'e': {'element': RailEnvTransitionsEnum.right_turn_from_south, 'orientation': 'east'},\n",
    "        'ssnw': {'element': RailEnvTransitionsEnum.simple_switch_south_right, 'orientation': 'north'},\n",
    "        'ssws': {'element': RailEnvTransitionsEnum.simple_switch_east_right, 'orientation': 'west'},\n",
    "        'ssse': {'element': RailEnvTransitionsEnum.simple_switch_north_right, 'orientation': 'north'},\n",
    "        'ssse_e': {'element': RailEnvTransitionsEnum.simple_switch_north_right, 'orientation': 'east'},\n",
    "        'sses': {'element': RailEnvTransitionsEnum.simple_switch_west_left, 'orientation': 'east'},\n",
    "        'ssne': {'element': RailEnvTransitionsEnum.simple_switch_south_left, 'orientation': 'north'},\n",
    "        'sssw': {'element': RailEnvTransitionsEnum.simple_switch_north_left, 'orientation': 'north'},\n",
    "        'sssw_w': {'element': RailEnvTransitionsEnum.simple_switch_north_left, 'orientation': 'west'},\n",
    "        'c': {'element': RailEnvTransitionsEnum.diamond_crossing, 'orientation': 'north'},\n",
    "        'sslnw': {'element': RailEnvTransitionsEnum.single_slip_NW, 'orientation': 'north'},\n",
    "        'sslsw': {'element': RailEnvTransitionsEnum.single_slip_SW, 'orientation': 'north'},\n",
    "        'sslsw_w': {'element': RailEnvTransitionsEnum.single_slip_SW, 'orientation': 'west'},\n",
    "        'ssles': {'element': RailEnvTransitionsEnum.single_slip_SE, 'orientation': 'north'},\n",
    "        'ssles_e': {'element': RailEnvTransitionsEnum.single_slip_SE, 'orientation': 'east'},\n",
    "        'sslne': {'element': RailEnvTransitionsEnum.single_slip_NE, 'orientation': 'north'},\n",
    "        'dslne': {'element': RailEnvTransitionsEnum.double_slip_NE_SW, 'orientation': 'north'},\n",
    "        'dslne_w': {'element': RailEnvTransitionsEnum.double_slip_NE_SW, 'orientation': 'west'},\n",
    "        'dslnw': {'element': RailEnvTransitionsEnum.double_slip_NW_SE, 'orientation': 'north'},\n",
    "        'dslnw_e': {'element': RailEnvTransitionsEnum.double_slip_NW_SE, 'orientation': 'east'},\n",
    "        'sysw': {'element': RailEnvTransitionsEnum.symmetric_switch_from_west, 'orientation': 'west'},\n",
    "        'syss_e': {'element': RailEnvTransitionsEnum.symmetric_switch_from_south, 'orientation': 'east'},\n",
    "        'syss_w': {'element': RailEnvTransitionsEnum.symmetric_switch_from_south, 'orientation': 'west'},\n",
    "        'syse': {'element': RailEnvTransitionsEnum.symmetric_switch_from_east, 'orientation': 'east'},\n",
    "        'de': {'element': RailEnvTransitionsEnum.dead_end_from_south, 'orientation': 'north'},\n",
    "    },\n",
    "    'east': {\n",
    "        'empty': {'element': RailEnvTransitionsEnum.empty, 'orientation': 'east'},\n",
    "        'e': {'element': RailEnvTransitionsEnum.horizontal_straight, 'orientation': 'east'},\n",
    "        'n': {'element': RailEnvTransitionsEnum.right_turn_from_north, 'orientation': 'north'},\n",
    "        's': {'element': RailEnvTransitionsEnum.right_turn_from_west, 'orientation': 'south'},\n",
    "        'ssnw': {'element': RailEnvTransitionsEnum.simple_switch_south_right, 'orientation': 'north'},\n",
    "        'ssws': {'element': RailEnvTransitionsEnum.simple_switch_east_right, 'orientation': 'east'},\n",
    "        'ssws_s': {'element': RailEnvTransitionsEnum.simple_switch_east_right, 'orientation': 'south'},\n",
    "        'ssen': {'element': RailEnvTransitionsEnum.simple_switch_west_right, 'orientation': 'east'},\n",
    "        'sswn': {'element': RailEnvTransitionsEnum.simple_switch_east_left, 'orientation': 'east'},\n",
    "        'sswn_n': {'element': RailEnvTransitionsEnum.simple_switch_east_left, 'orientation': 'north'},\n",
    "        'sssw': {'element': RailEnvTransitionsEnum.simple_switch_north_left, 'orientation': 'south'},\n",
    "        'sses': {'element': RailEnvTransitionsEnum.simple_switch_west_left, 'orientation': 'east'},\n",
    "        'c': {'element': RailEnvTransitionsEnum.diamond_crossing, 'orientation': 'east'},\n",
    "        'sslnw': {'element': RailEnvTransitionsEnum.single_slip_NW, 'orientation': 'east'},\n",
    "        'sslnw_n': {'element': RailEnvTransitionsEnum.single_slip_NW, 'orientation': 'north'},\n",
    "        'sslsw': {'element': RailEnvTransitionsEnum.single_slip_SW, 'orientation': 'east'},\n",
    "        'sslsw_s': {'element': RailEnvTransitionsEnum.single_slip_SW, 'orientation': 'south'},\n",
    "        'ssles': {'element': RailEnvTransitionsEnum.single_slip_SE, 'orientation': 'east'},\n",
    "        'sslne': {'element': RailEnvTransitionsEnum.single_slip_NE, 'orientation': 'east'},\n",
    "        'dslne': {'element': RailEnvTransitionsEnum.double_slip_NE_SW, 'orientation': 'east'},\n",
    "        'dslne_s': {'element': RailEnvTransitionsEnum.double_slip_NE_SW, 'orientation': 'south'},\n",
    "        'dslnw': {'element': RailEnvTransitionsEnum.double_slip_NW_SE, 'orientation': 'east'},\n",
    "        'dslnw_n': {'element': RailEnvTransitionsEnum.double_slip_NW_SE, 'orientation': 'north'},\n",
    "        'sysn': {'element': RailEnvTransitionsEnum.symmetric_switch_from_north, 'orientation': 'north'},\n",
    "        'sysw_n': {'element': RailEnvTransitionsEnum.symmetric_switch_from_west, 'orientation': 'north'},\n",
    "        'sysw_s': {'element': RailEnvTransitionsEnum.symmetric_switch_from_west, 'orientation': 'south'},\n",
    "        'syss': {'element': RailEnvTransitionsEnum.symmetric_switch_from_south, 'orientation': 'south'},\n",
    "        'de': {'element': RailEnvTransitionsEnum.dead_end_from_west, 'orientation': 'east'},\n",
    "    },\n",
    "    'south': {\n",
    "        'empty': {'element': RailEnvTransitionsEnum.empty, 'orientation': 'south'},\n",
    "        's': {'element': RailEnvTransitionsEnum.vertical_straight, 'orientation': 'south'},\n",
    "        'w': {'element': RailEnvTransitionsEnum.right_turn_from_north, 'orientation': 'west'},\n",
    "        'e': {'element': RailEnvTransitionsEnum.right_turn_from_east, 'orientation': 'east'},\n",
    "        'ssnw': {'element': RailEnvTransitionsEnum.simple_switch_south_right, 'orientation': 'south'},\n",
    "        'ssnw_w': {'element': RailEnvTransitionsEnum.simple_switch_south_right, 'orientation': 'west'},\n",
    "        'ssse': {'element': RailEnvTransitionsEnum.simple_switch_north_right, 'orientation': 'south'},\n",
    "        'ssen': {'element': RailEnvTransitionsEnum.simple_switch_west_right, 'orientation': 'east'},\n",
    "        'ssne': {'element': RailEnvTransitionsEnum.simple_switch_south_left, 'orientation': 'south'},\n",
    "        'ssne_e': {'element': RailEnvTransitionsEnum.simple_switch_south_left, 'orientation': 'east'},\n",
    "        'sswn': {'element': RailEnvTransitionsEnum.simple_switch_east_left, 'orientation': 'west'},\n",
    "        'sssw': {'element': RailEnvTransitionsEnum.simple_switch_north_left, 'orientation': 'south'},\n",
    "        'c': {'element': RailEnvTransitionsEnum.diamond_crossing, 'orientation': 'south'},\n",
    "        'sslnw': {'element': RailEnvTransitionsEnum.single_slip_NW, 'orientation': 'south'},\n",
    "        'sslnw_w': {'element': RailEnvTransitionsEnum.single_slip_NW, 'orientation': 'west'},\n",
    "        'sslsw': {'element': RailEnvTransitionsEnum.single_slip_SW, 'orientation': 'south'},\n",
    "        'ssles': {'element': RailEnvTransitionsEnum.single_slip_SE, 'orientation': 'south'},\n",
    "        'sslne': {'element': RailEnvTransitionsEnum.single_slip_NE, 'orientation': 'south'},\n",
    "        'sslne_e': {'element': RailEnvTransitionsEnum.single_slip_NE, 'orientation': 'east'},\n",
    "        'dslne': {'element': RailEnvTransitionsEnum.double_slip_NE_SW, 'orientation': 'south'},\n",
    "        'dslne_e': {'element': RailEnvTransitionsEnum.double_slip_NE_SW, 'orientation': 'east'},\n",
    "        'dslnw': {'element': RailEnvTransitionsEnum.double_slip_NW_SE, 'orientation': 'south'},\n",
    "        'dslnw_w': {'element': RailEnvTransitionsEnum.double_slip_NW_SE, 'orientation': 'west'},\n",
    "        'sysw': {'element': RailEnvTransitionsEnum.symmetric_switch_from_west, 'orientation': 'west'},\n",
    "        'sysn_e': {'element': RailEnvTransitionsEnum.symmetric_switch_from_north, 'orientation': 'east'},\n",
    "        'sysn_w': {'element': RailEnvTransitionsEnum.symmetric_switch_from_north, 'orientation': 'west'},\n",
    "        'syse': {'element': RailEnvTransitionsEnum.symmetric_switch_from_east, 'orientation': 'east'},\n",
    "        'de': {'element': RailEnvTransitionsEnum.dead_end_from_north, 'orientation': 'south'},\n",
    "    },\n",
    "    'west': {\n",
    "        'empty': {'element': RailEnvTransitionsEnum.empty, 'orientation': 'west'},\n",
    "        'w': {'element': RailEnvTransitionsEnum.horizontal_straight, 'orientation': 'west'},\n",
    "        'n': {'element': RailEnvTransitionsEnum.right_turn_from_east, 'orientation': 'north'},\n",
    "        's': {'element': RailEnvTransitionsEnum.right_turn_from_south, 'orientation': 'south'},\n",
    "        'ssws': {'element': RailEnvTransitionsEnum.simple_switch_east_right, 'orientation': 'west'},\n",
    "        'ssse': {'element': RailEnvTransitionsEnum.simple_switch_north_right, 'orientation': 'south'},\n",
    "        'ssen': {'element': RailEnvTransitionsEnum.simple_switch_west_right, 'orientation': 'west'},\n",
    "        'ssen_n': {'element': RailEnvTransitionsEnum.simple_switch_west_right, 'orientation': 'north'},\n",
    "        'ssne': {'element': RailEnvTransitionsEnum.simple_switch_south_left, 'orientation': 'north'},\n",
    "        'sswn': {'element': RailEnvTransitionsEnum.simple_switch_east_left, 'orientation': 'west'},\n",
    "        'sses': {'element': RailEnvTransitionsEnum.simple_switch_west_left, 'orientation': 'west'},\n",
    "        'sses_s': {'element': RailEnvTransitionsEnum.simple_switch_west_left, 'orientation': 'south'},\n",
    "        'c': {'element': RailEnvTransitionsEnum.diamond_crossing, 'orientation': 'west'},\n",
    "        'sslnw': {'element': RailEnvTransitionsEnum.single_slip_NW, 'orientation': 'west'},\n",
    "        'sslsw': {'element': RailEnvTransitionsEnum.single_slip_SW, 'orientation': 'west'},\n",
    "        'ssles': {'element': RailEnvTransitionsEnum.single_slip_SE, 'orientation': 'west'},\n",
    "        'ssles_s': {'element': RailEnvTransitionsEnum.single_slip_SE, 'orientation': 'south'},\n",
    "        'sslne': {'element': RailEnvTransitionsEnum.single_slip_NE, 'orientation': 'west'},\n",
    "        'sslne_n': {'element': RailEnvTransitionsEnum.single_slip_NE, 'orientation': 'north'},\n",
    "        'dslne': {'element': RailEnvTransitionsEnum.double_slip_NE_SW, 'orientation': 'west'},\n",
    "        'dslne_n': {'element': RailEnvTransitionsEnum.double_slip_NE_SW, 'orientation': 'north'},\n",
    "        'dslnw': {'element': RailEnvTransitionsEnum.double_slip_NW_SE, 'orientation': 'west'},\n",
    "        'dslnw_n': {'element': RailEnvTransitionsEnum.double_slip_NW_SE, 'orientation': 'south'},\n",
    "        'sysn': {'element': RailEnvTransitionsEnum.symmetric_switch_from_north, 'orientation': 'north'},\n",
    "        'syse_n': {'element': RailEnvTransitionsEnum.symmetric_switch_from_east, 'orientation': 'north'},\n",
    "        'syse_s': {'element': RailEnvTransitionsEnum.symmetric_switch_from_east, 'orientation': 'south'},\n",
    "        'syss': {'element': RailEnvTransitionsEnum.symmetric_switch_from_south, 'orientation': 'south'},\n",
    "        'de': {'element': RailEnvTransitionsEnum.dead_end_from_east, 'orientation': 'west'},\n",
    "    },\n",
    "}"
   ]
  },
  {
   "cell_type": "code",
   "execution_count": null,
   "metadata": {},
   "outputs": [],
   "source": [
    "with open('elements.pkl', 'wb') as f:\n",
    "    pickle.dump(elements,f)"
   ]
  },
  {
   "cell_type": "code",
   "execution_count": null,
   "metadata": {},
   "outputs": [],
   "source": [
    "def go_to_next_cell(x: int, y: int, orientation: str):\n",
    "    assert orientation in ['north', 'east', 'south', 'west'], \"Invalid orientation (allowed: 'north', 'east', 'south', 'west')\"\n",
    "    \n",
    "    if orientation == 'north':\n",
    "        return x,y+1\n",
    "    elif orientation == 'east':\n",
    "        return x+1,y\n",
    "    elif orientation == 'south':\n",
    "        return x,y-1\n",
    "    elif orientation == 'west':\n",
    "        return x-1,y"
   ]
  },
  {
   "cell_type": "code",
   "execution_count": null,
   "metadata": {},
   "outputs": [],
   "source": [
    "def step_back(x: int, y: int, orientation: str):\n",
    "    assert orientation in ['north', 'east', 'south', 'west'], \"Invalid orientation (allowed: 'north', 'east', 'south', 'west')\"\n",
    "    \n",
    "    if orientation == 'north':\n",
    "        return x,y-1\n",
    "    elif orientation == 'east':\n",
    "        return x-1,y\n",
    "    elif orientation == 'south':\n",
    "        return x,y+1\n",
    "    elif orientation == 'west':\n",
    "        return x+1,y"
   ]
  },
  {
   "cell_type": "code",
   "execution_count": null,
   "metadata": {},
   "outputs": [],
   "source": [
    "def convert_coordinates(grid: np.array, x: int, y: int, x_origin: int = 0, y_origin: int = 0):\n",
    "    n, e = grid.shape\n",
    "    \n",
    "    i = n - y - 1 - y_origin\n",
    "    j = x + x_origin\n",
    "    \n",
    "    return i, j"
   ]
  },
  {
   "cell_type": "code",
   "execution_count": null,
   "metadata": {},
   "outputs": [],
   "source": [
    "def place_element(grid: np.array, x: int, y: int, orientation: str, element: str, x_origin: int = 0, y_origin: int = 0):\n",
    "\n",
    "    # place element and adjust orientation\n",
    "    element, orientation = elements[orientation][element].values()\n",
    "    i, j = convert_coordinates(grid, x, y, x_origin, y_origin)\n",
    "    grid[i][j] = element.value\n",
    "    \n",
    "    # go to next cell\n",
    "    x,y = go_to_next_cell(x, y, orientation)\n",
    "\n",
    "    return grid, x, y, orientation"
   ]
  },
  {
   "cell_type": "code",
   "execution_count": null,
   "metadata": {},
   "outputs": [],
   "source": [
    "def place_line(grid: np.array, x0: int, y0: int, orientation: str, line: list, x_origin: int = 0, y_origin: int = 0, return_line: bool = False, return_endpoint: bool = False):\n",
    "    x = x0\n",
    "    y = y0\n",
    "    \n",
    "    list_line = []\n",
    "    \n",
    "    for element in line:\n",
    "        list_line.append(tuple([x,y]))\n",
    "        grid, x, y, orientation = place_element(grid, x, y, orientation, element, x_origin, y_origin)\n",
    "    \n",
    "    if return_endpoint:\n",
    "        x, y = step_back(x, y, orientation)\n",
    "        if return_line:\n",
    "            return grid, list_line, (x, y)\n",
    "        else:\n",
    "            return grid, (x, y)\n",
    "    \n",
    "    if return_line:\n",
    "        return grid, list_line\n",
    "    \n",
    "    return grid"
   ]
  },
  {
   "cell_type": "markdown",
   "metadata": {},
   "source": [
    "## Grid"
   ]
  },
  {
   "cell_type": "code",
   "execution_count": null,
   "metadata": {},
   "outputs": [],
   "source": [
    "from flatland.core.grid.rail_env_grid import RailEnvTransitionsEnum"
   ]
  },
  {
   "cell_type": "code",
   "execution_count": null,
   "metadata": {},
   "outputs": [],
   "source": [
    "# create grid\n",
    "height = 60\n",
    "width = 35\n",
    "grid_shape = tuple([width, height]) \n",
    "\n",
    "x_origin = 7\n",
    "y_origin = 20\n",
    "coord_origin = tuple([x_origin, y_origin])\n",
    "\n",
    "grid = np.array([[0]*width]*height)\n",
    "\n",
    "# create lines\n",
    "\n",
    "# 1st line\n",
    "x0, y0 = 0, 0\n",
    "line1 = ['n']*4 + ['e']\n",
    "line2 = ['e']\n",
    "grid, line_1n = place_line(grid, x0, y0, 'north', line1, x_origin = x_origin, y_origin = y_origin, return_line=True)\n",
    "grid, line_1s = place_line(grid, x0, y0, 'south', line2, x_origin = x_origin, y_origin = y_origin, return_line=True)\n",
    "line_1 = list(reversed(line_1s)) + line_1n[1:]\n",
    "\n",
    "# 2nd line\n",
    "x0, y0 = 1, 0\n",
    "line1 = ['n']*4 + ['ssnw','ssne'] + ['n']*7 + ['sssw','n','n','ssse','ssne','ssnw','n','ssse','ssnw'] + ['n']*5 + ['e']*9 + ['sswn_n','n','n'] + ['w']*18\n",
    "line2 = ['sssw','ssne'] + ['s']*4 + ['e','s','s','s','ssse','w'] + ['w']*9\n",
    "grid, line_2n, end2north = place_line(grid, x0, y0, 'north', line1, x_origin = x_origin, y_origin = y_origin, return_line=True, return_endpoint=True)\n",
    "grid, line_2s, end2south = place_line(grid, x0, y0, 'south', line2, x_origin = x_origin, y_origin = y_origin, return_line=True, return_endpoint=True)\n",
    "line_2 = list(reversed(line_2s)) + line_2n[1:]\n",
    "\n",
    "# 3rd line\n",
    "x0, y0 = 2, 0\n",
    "line1 = ['n']*5 + ['sssw','ssne'] + ['n']*7 + ['ssne','n','ssnw','sssw','e']\n",
    "line2 = ['s', 'sssw','s','e']\n",
    "grid, line_3n = place_line(grid, x0, y0, 'north', line1, x_origin = x_origin, y_origin = y_origin, return_line=True)\n",
    "grid, line_3s = place_line(grid, x0, y0, 'south', line2, x_origin = x_origin, y_origin = y_origin, return_line=True)\n",
    "line_3 = list(reversed(line_3s)) + line_3n[1:]\n",
    "\n",
    "# 4rd line\n",
    "x0, y0 = 3, 0\n",
    "line1 = ['n']*6 + ['sssw','ssne'] + ['n']*4 + ['ssne','n','sssw','ssse','n','n','ssnw','e','sses'] + ['e']*6 + ['c']*2 + ['e']*5 + ['ssen'] + ['e']*3 + ['sswn','sses','e','ssws','e','e']\n",
    "line2 = ['s']*3 + ['sssw','s','s','ssne','s','s','ssnw','ssse','w'] + ['w']*10\n",
    "grid, line_4e, end4east = place_line(grid, x0, y0, 'north', line1, x_origin = x_origin, y_origin = y_origin, return_line=True, return_endpoint=True)\n",
    "grid, line_4s, end4south = place_line(grid, x0, y0, 'south', line2, x_origin = x_origin, y_origin = y_origin, return_line=True, return_endpoint=True)\n",
    "line_4 = list(reversed(line_4s)) + line_4e[1:]\n",
    "\n",
    "# 5th line\n",
    "x0, y0 = 4, 0\n",
    "line1 = ['n']*7 + ['sssw','ssne','n','ssse','ssne','sssw','n','ssse','ssnw','ssne','n','ssse_e'] + ['e']*6 + ['c']*2 + ['e']*10 + ['n']\n",
    "line2 = ['s']*3 + ['ssse','s','s','sssw','s','s','s','ssnw','ssne','s','s'] + ['w']*7 + ['s']*7\n",
    "grid, line_5n = place_line(grid, x0, y0, 'north', line1, x_origin = x_origin, y_origin = y_origin, return_line=True)\n",
    "grid, line_5s, end5south = place_line(grid, x0, y0, 'south', line2, x_origin = x_origin, y_origin = y_origin, return_line=True, return_endpoint=True)\n",
    "line_5 = list(reversed(line_5s)) + line_5n[1:]\n",
    "\n",
    "# 6th line\n",
    "x0, y0 = 5, 0\n",
    "line1 = ['n']*8 + ['w']\n",
    "line2 = ['s','ssse','s','ssnw'] + ['s']*3 + ['ssse'] + ['s']*3 + ['sssw','s','ssne','s'] + ['w']*7 + ['s']*6\n",
    "grid, line_6n = place_line(grid, x0, y0, 'north', line1, x_origin = x_origin, y_origin = y_origin, return_line=True)\n",
    "grid, line_6s, end6south = place_line(grid, x0, y0, 'south', line2, x_origin = x_origin, y_origin = y_origin, return_line=True, return_endpoint=True)\n",
    "line_6 = list(reversed(line_6s)) + line_6n[1:]\n",
    "\n",
    "# cross\n",
    "x0, y0 = 5, 11\n",
    "line = ['s','c','e']\n",
    "grid, line_cross = place_line(grid, x0, y0, 'east', line, x_origin = x_origin, y_origin = y_origin, return_line=True)\n",
    "\n",
    "# 7th line\n",
    "x0, y0 = 6, 0\n",
    "line1 = ['n']*5 + ['ssse'] + ['n']*3 + ['sssw','ssnw','n','w','n','n','ssnw','n','sssw'] + ['e']*6 + ['c']*2 + ['e']*11 + ['n','e','ssen','e','e'] \n",
    "line2 = ['s','ssnw','s','ssse','s','ssse','s','ssnw'] + ['s']*5 + ['sssw','s','ssne'] + ['s']*5\n",
    "grid, line_7e, end7east = place_line(grid, x0, y0, 'north', line1, x_origin = x_origin, y_origin = y_origin, return_line=True, return_endpoint=True)\n",
    "grid, line_7s, end7south = place_line(grid, x0, y0, 'south', line2, x_origin = x_origin, y_origin = y_origin, return_line=True, return_endpoint=True)\n",
    "line_7 = list(reversed(line_7s)) + line_7e[1:]\n",
    "\n",
    "# 8th line\n",
    "x0, y0 = 7, 0\n",
    "line1 = ['n']*5 + ['ssnw','n','ssne'] + ['n']*4 + ['e']*2 + ['ssws','sses'] + ['n']*5 + ['c']*4 + ['n']*6 + ['ssnw','e']\n",
    "line2 = ['ssse','s','s','w']\n",
    "grid, line_8n = place_line(grid, x0, y0, 'north', line1, x_origin = x_origin, y_origin = y_origin, return_line=True)\n",
    "grid, line_8s = place_line(grid, x0, y0, 'south', line2, x_origin = x_origin, y_origin = y_origin, return_line=True)\n",
    "line_8 = list(reversed(line_8s)) + line_8n[1:]\n",
    "\n",
    "# 9th line\n",
    "x0, y0 = 8, 0\n",
    "line1 = ['n']*5 + ['ssne','n','sssw','n', 'e']\n",
    "line2 = ['ssnw','s','ssse','s','w','s','ssnw'] + ['s']*9 + ['sssw'] + ['s']*5 \n",
    "grid, line_9n = place_line(grid, x0, y0, 'north', line1, x_origin = x_origin, y_origin = y_origin, return_line=True)\n",
    "grid, line_9s, end9south = place_line(grid, x0, y0, 'south', line2, x_origin = x_origin, y_origin = y_origin, return_line=True, return_endpoint=True)\n",
    "line_9 = list(reversed(line_9s)) + line_9n[1:]\n",
    "\n",
    "# 10th line\n",
    "x0, y0 = 9, 0\n",
    "line1 = ['n']*5 + ['sssw','n','n','n','ssnw','n','syse','sswn','e'] + ['n']*6 + ['c']*4 + ['n']*6 + ['ssse','ssnw'] + ['e']*4 + ['ssnw'] + ['n']*10\n",
    "line2 = ['s','s','w']\n",
    "grid, line_10n, end10north = place_line(grid, x0, y0, 'north', line1, x_origin = x_origin, y_origin = y_origin, return_line=True, return_endpoint=True)\n",
    "grid, line_10s = place_line(grid, x0, y0, 'south', line2, x_origin = x_origin, y_origin = y_origin, return_line=True)\n",
    "line_10 = list(reversed(line_10s)) + line_10n[1:]\n",
    "\n",
    "# 11th line\n",
    "x0, y0 = 0, 13\n",
    "line = ['n']*5 + ['ssse','n','n','e']\n",
    "grid, line_11 = place_line(grid, x0, y0, 'west', line, x_origin = x_origin, y_origin = y_origin, return_line=True)\n",
    "\n",
    "# 12th line\n",
    "x0, y0 = 2, 20\n",
    "line = ['e']*9 + ['c']*2 + ['e']*3 + ['ssen','e','ssws','e','sswn','e','sses','e','e','sswn','e','e'] \n",
    "grid, line_12, end12east = place_line(grid, x0, y0, 'east', line, x_origin = x_origin, y_origin = y_origin, return_line=True, return_endpoint=True)\n",
    "\n",
    "# 13th line\n",
    "x0, y0 = 16, 21\n",
    "line = ['n']*6 + ['ssnw','ssse','ssnw']\n",
    "grid, line_13 = place_line(grid, x0, y0, 'north', line, x_origin = x_origin, y_origin = y_origin, return_line=True)\n",
    "\n",
    "# 14th line\n",
    "x0, y0 = 27, 21\n",
    "end14east = tuple([x0,y0])\n",
    "line = ['w','w','sses'] + ['w']*4 + ['sses','w','w'] + ['n']*7 + ['ssnw'] + ['n']*11\n",
    "grid, line_14, end14north = place_line(grid, x0, y0, 'west', line, x_origin = x_origin, y_origin = y_origin, return_line=True, return_endpoint=True)\n",
    "\n",
    "# 15th line\n",
    "x0, y0 = 13, 27\n",
    "line = ['e']*3\n",
    "grid, line_15 = place_line(grid, x0, y0, 'east', line, x_origin = x_origin, y_origin = y_origin, return_line=True)\n",
    "\n",
    "\n",
    "olten_grid = grid.tolist()"
   ]
  },
  {
   "cell_type": "code",
   "execution_count": null,
   "metadata": {},
   "outputs": [],
   "source": [
    "# alternative scenario \"disrupted\"\n",
    "grid_disrupted = grid.copy()\n",
    "grid_disrupted = place_line(grid_disrupted, 20, 17, 'east', ['empty']*3, x_origin = x_origin, y_origin = y_origin)\n",
    "olten_grid_disrupted = grid_disrupted.tolist()"
   ]
  },
  {
   "cell_type": "code",
   "execution_count": null,
   "metadata": {},
   "outputs": [],
   "source": [
    "# alternative scenario \"partially closed station\"\n",
    "grid_partially_closed_station = grid.copy()\n",
    "grid_partially_closed_station = place_line(grid_partially_closed_station, 0, 1, 'north', ['empty']*3, x_origin = x_origin, y_origin = y_origin)\n",
    "grid_partially_closed_station = place_line(grid_partially_closed_station, 1, 1, 'north', ['empty']*3, x_origin = x_origin, y_origin = y_origin)\n",
    "grid_partially_closed_station = place_line(grid_partially_closed_station, 2, 1, 'north', ['empty']*3, x_origin = x_origin, y_origin = y_origin)\n",
    "grid_partially_closed_station = place_line(grid_partially_closed_station, 5, 1, 'north', ['empty']*3, x_origin = x_origin, y_origin = y_origin)\n",
    "grid_partially_closed_station = place_line(grid_partially_closed_station, 6, 1, 'north', ['empty']*3, x_origin = x_origin, y_origin = y_origin)\n",
    "grid_partially_closed_station = place_line(grid_partially_closed_station, 7, 1, 'north', ['empty']*3, x_origin = x_origin, y_origin = y_origin)\n",
    "grid_partially_closed_station = place_line(grid_partially_closed_station, 8, 1, 'north', ['empty']*3, x_origin = x_origin, y_origin = y_origin)\n",
    "olten_grid_partially_closed_station = grid_partially_closed_station.tolist()"
   ]
  },
  {
   "cell_type": "code",
   "execution_count": null,
   "metadata": {},
   "outputs": [],
   "source": [
    "with np.printoptions(threshold=np.inf,linewidth=np.inf):\n",
    "    print(grid)"
   ]
  },
  {
   "cell_type": "code",
   "execution_count": null,
   "metadata": {},
   "outputs": [],
   "source": [
    "# display entry points\n",
    "def display_endpoints():\n",
    "    print('Line  2 south entry:', end2south)\n",
    "    print('Line  4 south entry:', end4south)\n",
    "    print('Line  5 south entry:', end5south)\n",
    "    print('Line  6 south entry:', end6south)\n",
    "    print('Line  7 south entry:', end7south)\n",
    "    print('Line  9 south entry:', end9south)\n",
    "\n",
    "    print('Line  2 north entry:', end2north)\n",
    "    print('Line 10 north entry:', end10north)\n",
    "    print('Line 14 north entry:', end14north)\n",
    "\n",
    "    print('Line  4 east  entry:', end4east)\n",
    "    print('Line  7 east  entry:', end7east)\n",
    "    print('Line 12 east  entry:', end12east)\n",
    "    print('Line 14 east  entry:', end14east)\n",
    "    \n",
    "    return\n",
    "\n",
    "# display_endpoints()"
   ]
  },
  {
   "cell_type": "code",
   "execution_count": null,
   "metadata": {},
   "outputs": [],
   "source": [
    "grid_pkl = {'grid': grid}\n",
    "\n",
    "with open('olten.pkl', 'wb') as f:\n",
    "    pickle.dump(grid_pkl,f)"
   ]
  },
  {
   "cell_type": "markdown",
   "metadata": {},
   "source": [
    "## Lat-Lon Mapping"
   ]
  },
  {
   "cell_type": "code",
   "execution_count": null,
   "metadata": {},
   "outputs": [],
   "source": [
    "# transform coordinates \n",
    "def transform_coordinates(coordinates: str):\n",
    "    north, east = coordinates.split('N')\n",
    "    \n",
    "    latitude = float(north[:2]) + float(north[4:6])/60 + float(north[8:13])/3600\n",
    "    longitude = float(east[1:2]) + float(east[4:6])/60 + float(east[8:13])/3600\n",
    "    \n",
    "    return latitude, longitude"
   ]
  },
  {
   "cell_type": "code",
   "execution_count": null,
   "metadata": {},
   "outputs": [],
   "source": [
    "# create dictionary\n",
    "def add_to_dict(coordinate_dict: dict, coordinates_LL: str, coordinates_grid: tuple):\n",
    "    \n",
    "    coordinates_LL = transform_coordinates(coordinates_LL)\n",
    "    coordinate_dict[coordinates_grid] = coordinates_LL\n",
    "    \n",
    "    return coordinate_dict"
   ]
  },
  {
   "cell_type": "code",
   "execution_count": null,
   "metadata": {},
   "outputs": [],
   "source": [
    "# create mapping dictionary\n",
    "coordinate_map_olten = {}\n",
    "\n",
    "# Train station (names correspond to track number in Olten)\n",
    "olten1 = tuple([0,2])\n",
    "olten2 = tuple([1,2])\n",
    "olten3 = tuple([2,2])\n",
    "olten4 = tuple([3,2])\n",
    "olten7 = tuple([4,2])\n",
    "olten8 = tuple([5,2])\n",
    "olten9 = tuple([6,2])\n",
    "olten10 = tuple([7,2])\n",
    "olten11 = tuple([8,2])\n",
    "olten12 = tuple([9,2])\n",
    "\n",
    "coordinate_map_olten = add_to_dict(coordinate_dict = coordinate_map_olten, coordinates_LL = '47° 21′ 05.90″ N 7° 54′ 25.54″ E', coordinates_grid = olten1)\n",
    "coordinate_map_olten = add_to_dict(coordinate_dict = coordinate_map_olten, coordinates_LL = '47° 21′ 05.89″ N 7° 54′ 25.75″ E', coordinates_grid = olten2)\n",
    "coordinate_map_olten = add_to_dict(coordinate_dict = coordinate_map_olten, coordinates_LL = '47° 21′ 05.86″ N 7° 54′ 26.22″ E', coordinates_grid = olten3)\n",
    "coordinate_map_olten = add_to_dict(coordinate_dict = coordinate_map_olten, coordinates_LL = '47° 21′ 05.84″ N 7° 54′ 26.46″ E' , coordinates_grid = olten4)\n",
    "coordinate_map_olten = add_to_dict(coordinate_dict = coordinate_map_olten, coordinates_LL = '47° 21′ 05.70″ N 7° 54′ 27.79″ E', coordinates_grid = olten7)\n",
    "coordinate_map_olten = add_to_dict(coordinate_dict = coordinate_map_olten, coordinates_LL = '47° 21′ 05.69″ N 7° 54′ 28.03″ E', coordinates_grid = olten8)\n",
    "coordinate_map_olten = add_to_dict(coordinate_dict = coordinate_map_olten, coordinates_LL = '47° 21′ 05.63″ N 7° 54′ 28.77″ E', coordinates_grid = olten9)\n",
    "coordinate_map_olten = add_to_dict(coordinate_dict = coordinate_map_olten, coordinates_LL = '47° 21′ 05.62″ N 7° 54′ 28.97″ E', coordinates_grid = olten10)\n",
    "coordinate_map_olten = add_to_dict(coordinate_dict = coordinate_map_olten, coordinates_LL = '47° 21′ 05.58″ N 7° 54′ 29.48″ E', coordinates_grid = olten11)\n",
    "coordinate_map_olten = add_to_dict(coordinate_dict = coordinate_map_olten, coordinates_LL = '47° 21′ 05.55″ N 7° 54′ 29.69″ E', coordinates_grid = olten12)\n",
    "\n",
    "\n",
    "# entry points\n",
    "coordinate_map_olten = add_to_dict(coordinate_dict = coordinate_map_olten, coordinates_LL = '47° 20′ 56.63″ N 7° 53′ 36.31″ E', coordinates_grid = end2south)\n",
    "coordinate_map_olten = add_to_dict(coordinate_dict = coordinate_map_olten, coordinates_LL = '47° 20′ 56.46″ N 7° 53′ 36.29″ E', coordinates_grid = end4south)\n",
    "coordinate_map_olten = add_to_dict(coordinate_dict = coordinate_map_olten, coordinates_LL = '47° 20′ 08.39″ N 7° 54′ 08.41″ E', coordinates_grid = end5south)\n",
    "coordinate_map_olten = add_to_dict(coordinate_dict = coordinate_map_olten, coordinates_LL = '47° 20′ 08.34″ N 7° 54′ 08.60″ E', coordinates_grid = end6south)\n",
    "coordinate_map_olten = add_to_dict(coordinate_dict = coordinate_map_olten, coordinates_LL = '47° 20′ 22.88″ N 7° 54′ 32.65″ E', coordinates_grid = end7south)\n",
    "coordinate_map_olten = add_to_dict(coordinate_dict = coordinate_map_olten, coordinates_LL = '47° 20′ 22.87″ N 7° 54′ 32.87″ E', coordinates_grid = end9south)\n",
    "coordinate_map_olten = add_to_dict(coordinate_dict = coordinate_map_olten, coordinates_LL = '47° 21′ 53.01″ N 7° 53′ 55.91″ E', coordinates_grid = end2north)\n",
    "coordinate_map_olten = add_to_dict(coordinate_dict = coordinate_map_olten, coordinates_LL = '47° 22′ 13.42″ N 7° 54′ 57.88″ E', coordinates_grid = end10north)\n",
    "coordinate_map_olten = add_to_dict(coordinate_dict = coordinate_map_olten, coordinates_LL = '47° 22′ 13.40″ N 7° 54′ 58.04″ E', coordinates_grid = end14north)\n",
    "coordinate_map_olten = add_to_dict(coordinate_dict = coordinate_map_olten, coordinates_LL = '47° 21′ 22.73″ N 7° 55′ 49.53″ E', coordinates_grid = end4east)\n",
    "coordinate_map_olten = add_to_dict(coordinate_dict = coordinate_map_olten, coordinates_LL = '47° 21′ 22.61″ N 7° 55′ 49.46″ E', coordinates_grid = end7east)\n",
    "coordinate_map_olten = add_to_dict(coordinate_dict = coordinate_map_olten, coordinates_LL = '47° 21′ 22.89″ N 7° 55′ 49.67″ E', coordinates_grid = end12east)\n",
    "coordinate_map_olten = add_to_dict(coordinate_dict = coordinate_map_olten, coordinates_LL = '47° 21′ 23.04″ N 7° 55′ 49.72″ E', coordinates_grid = end14east)\n",
    "\n",
    "\n",
    "# intermediate stops\n",
    "hammer2 = tuple([-5,-10])\n",
    "hammer4 = tuple([-5,-11])\n",
    "trimbach2 = tuple([-2,30])\n",
    "\n",
    "coordinate_map_olten = add_to_dict(coordinate_dict = coordinate_map_olten, coordinates_LL = '47° 20′ 54.67″ N 7° 53′ 51.65″ E', coordinates_grid = hammer2)\n",
    "coordinate_map_olten = add_to_dict(coordinate_dict = coordinate_map_olten, coordinates_LL = '47° 20′ 54.45″ N 7° 53′ 51.37″ E', coordinates_grid = hammer4)\n",
    "coordinate_map_olten = add_to_dict(coordinate_dict = coordinate_map_olten, coordinates_LL = '47° 21′ 57.59″ N 7° 54′ 15.35″ E', coordinates_grid = trimbach2)\n",
    "\n",
    "\n",
    "# crossings\n",
    "coordinate_map_olten = add_to_dict(coordinate_dict = coordinate_map_olten, coordinates_LL = '47° 21′ 37.24″ N 7° 55′ 01.07″ E', coordinates_grid = tuple([11,20]))\n",
    "coordinate_map_olten = add_to_dict(coordinate_dict = coordinate_map_olten, coordinates_LL = '47° 21′ 37.33″ N 7° 55′ 01.40″ E', coordinates_grid = tuple([12,20]))\n",
    "coordinate_map_olten = add_to_dict(coordinate_dict = coordinate_map_olten, coordinates_LL = '47° 21′ 36.95″ N 7° 55′ 00.82″ E', coordinates_grid = tuple([11,19]))\n",
    "coordinate_map_olten = add_to_dict(coordinate_dict = coordinate_map_olten, coordinates_LL = '47° 21′ 37.07″ N 7° 55′ 01.16″ E', coordinates_grid = tuple([12,19]))\n",
    "coordinate_map_olten = add_to_dict(coordinate_dict = coordinate_map_olten, coordinates_LL = '47° 21′ 36.75″ N 7° 55′ 00.64″ E', coordinates_grid = tuple([11,18]))\n",
    "coordinate_map_olten = add_to_dict(coordinate_dict = coordinate_map_olten, coordinates_LL = '47° 21′ 36.84″ N 7° 55′ 00.96″ E', coordinates_grid = tuple([12,18]))\n",
    "coordinate_map_olten = add_to_dict(coordinate_dict = coordinate_map_olten, coordinates_LL = '47° 21′ 36.33″ N 7° 55′ 00.17″ E', coordinates_grid = tuple([11,17]))\n",
    "coordinate_map_olten = add_to_dict(coordinate_dict = coordinate_map_olten, coordinates_LL = '47° 21′ 36.40″ N 7° 55′ 00.51″ E', coordinates_grid = tuple([12,17]))\n",
    "\n",
    "\n",
    "# line 2/4 south\n",
    "coordinate_map_olten = add_to_dict(coordinate_dict = coordinate_map_olten, coordinates_LL = '47° 21′ 02.97″ N 7° 54′ 26.05″ E', coordinates_grid = tuple([0,0]))\n",
    "coordinate_map_olten = add_to_dict(coordinate_dict = coordinate_map_olten, coordinates_LL = '47° 20′ 53.12″ N 7° 54′ 25.25″ E', coordinates_grid = tuple([2,-10]))\n",
    "coordinate_map_olten = add_to_dict(coordinate_dict = coordinate_map_olten, coordinates_LL = '47° 20′ 48.29″ N 7° 54′ 20.74″ E', coordinates_grid = tuple([0,-10]))\n",
    "coordinate_map_olten = add_to_dict(coordinate_dict = coordinate_map_olten, coordinates_LL = '47° 20′ 47.00″ N 7° 54′ 06.23″ E', coordinates_grid = tuple([-2,-10]))\n",
    "coordinate_map_olten = add_to_dict(coordinate_dict = coordinate_map_olten, coordinates_LL = '47° 20′ 53.11″ N 7° 54′ 25.75″ E', coordinates_grid = tuple([3,-11]))\n",
    "coordinate_map_olten = add_to_dict(coordinate_dict = coordinate_map_olten, coordinates_LL = '47° 20′ 48.12″ N 7° 54′ 20.95″ E', coordinates_grid = tuple([0,-11]))\n",
    "coordinate_map_olten = add_to_dict(coordinate_dict = coordinate_map_olten, coordinates_LL = '47° 20′ 46.80″ N 7° 54′ 06.19″ E', coordinates_grid = tuple([-2,-11]))\n",
    "\n",
    "# line 3/8 south\n",
    "coordinate_map_olten = add_to_dict(coordinate_dict = coordinate_map_olten, coordinates_LL = '47° 20′ 59.16″ N 7° 54′ 26.59″ E', coordinates_grid = tuple([2,-3]))\n",
    "coordinate_map_olten = add_to_dict(coordinate_dict = coordinate_map_olten, coordinates_LL = '47° 20′ 59.11″ N 7° 54′ 27.27″ E', coordinates_grid = tuple([7,-3]))\n",
    "\n",
    "# line 5/6 south\n",
    "coordinate_map_olten = add_to_dict(coordinate_dict = coordinate_map_olten, coordinates_LL = '47° 20′ 47.70″ N 7° 54′ 25.79″ E', coordinates_grid = tuple([4,-14]))\n",
    "coordinate_map_olten = add_to_dict(coordinate_dict = coordinate_map_olten, coordinates_LL = '47° 20′ 47.72″ N 7° 54′ 26.08″ E', coordinates_grid = tuple([5,-15]))\n",
    "coordinate_map_olten = add_to_dict(coordinate_dict = coordinate_map_olten, coordinates_LL = '47° 20′ 25.40″ N 7° 54′ 25.19″ E', coordinates_grid = tuple([-3,-14]))\n",
    "coordinate_map_olten = add_to_dict(coordinate_dict = coordinate_map_olten, coordinates_LL = '47° 20′ 25.34″ N 7° 54′ 25.38″ E', coordinates_grid = tuple([-2,-15]))\n",
    "coordinate_map_olten = add_to_dict(coordinate_dict = coordinate_map_olten, coordinates_LL = '47° 20′ 42.26″ N 7° 54′ 27.95″ E', coordinates_grid = tuple([2,-14]))\n",
    "coordinate_map_olten = add_to_dict(coordinate_dict = coordinate_map_olten, coordinates_LL = '47° 20′ 42.26″ N 7° 54′ 28.13″ E', coordinates_grid = tuple([3,-15]))\n",
    "coordinate_map_olten = add_to_dict(coordinate_dict = coordinate_map_olten, coordinates_LL = '47° 20′ 35.37″ N 7° 54′ 29.16″ E', coordinates_grid = tuple([0,-14]))\n",
    "coordinate_map_olten = add_to_dict(coordinate_dict = coordinate_map_olten, coordinates_LL = '47° 20′ 35.34″ N 7° 54′ 29.39″ E', coordinates_grid = tuple([1,-15]))\n",
    "\n",
    "# line 7/9/10 south\n",
    "coordinate_map_olten = add_to_dict(coordinate_dict = coordinate_map_olten, coordinates_LL = '47° 21′ 00.17″ N 7° 54′ 27.63″ E', coordinates_grid = tuple([8,-4]))\n",
    "coordinate_map_olten = add_to_dict(coordinate_dict = coordinate_map_olten, coordinates_LL = '47° 20′ 52.34″ N 7° 54′ 26.04″ E', coordinates_grid = tuple([6,-7]))\n",
    "coordinate_map_olten = add_to_dict(coordinate_dict = coordinate_map_olten, coordinates_LL = '47° 20′ 52.30″ N 7° 54′ 26.26″ E', coordinates_grid = tuple([7,-7]))\n",
    "coordinate_map_olten = add_to_dict(coordinate_dict = coordinate_map_olten, coordinates_LL = '47° 20′ 36.44″ N 7° 54′ 30.43″ E', coordinates_grid = tuple([6,-16]))\n",
    "coordinate_map_olten = add_to_dict(coordinate_dict = coordinate_map_olten, coordinates_LL = '47° 20′ 36.45″ N 7° 54′ 30.67″ E', coordinates_grid = tuple([7,-16]))\n",
    "coordinate_map_olten = add_to_dict(coordinate_dict = coordinate_map_olten, coordinates_LL = '47° 20′ 59.57″ N 7° 54′ 27.69″ E', coordinates_grid = tuple([9,-2]))\n",
    "\n",
    "# line 2 north\n",
    "coordinate_map_olten = add_to_dict(coordinate_dict = coordinate_map_olten, coordinates_LL = '47° 22′ 05.71″ N 7° 54′ 37.89″ E', coordinates_grid = tuple([5,30]))\n",
    "coordinate_map_olten = add_to_dict(coordinate_dict = coordinate_map_olten, coordinates_LL = '47° 22′ 03.00″ N 7° 54′ 53.69″ E', coordinates_grid = tuple([10,30]))\n",
    "coordinate_map_olten = add_to_dict(coordinate_dict = coordinate_map_olten, coordinates_LL = '47° 21′ 53.46″ N 7° 55′ 04.73″ E', coordinates_grid = tuple([10,27]))\n",
    "coordinate_map_olten = add_to_dict(coordinate_dict = coordinate_map_olten, coordinates_LL = '47° 21′ 38.82″ N 7° 55′ 01.43″ E', coordinates_grid = tuple([1,27]))\n",
    "coordinate_map_olten = add_to_dict(coordinate_dict = coordinate_map_olten, coordinates_LL = '47° 21′ 23.44″ N 7° 54′ 34.12″ E', coordinates_grid = tuple([1,13]))\n",
    "coordinate_map_olten = add_to_dict(coordinate_dict = coordinate_map_olten, coordinates_LL = '47° 21′ 45.94″ N 7° 55′ 05.57″ E', coordinates_grid = tuple([5,27]))\n",
    "\n",
    "# lines 3/4/5/6 north\n",
    "coordinate_map_olten = add_to_dict(coordinate_dict = coordinate_map_olten, coordinates_LL = '47° 21′ 23.39″ N 7° 54′ 34.41″ E', coordinates_grid = tuple([2,13]))\n",
    "coordinate_map_olten = add_to_dict(coordinate_dict = coordinate_map_olten, coordinates_LL = '47° 21′ 23.32″ N 7° 54′ 34.59″ E', coordinates_grid = tuple([3,13]))\n",
    "coordinate_map_olten = add_to_dict(coordinate_dict = coordinate_map_olten, coordinates_LL = '47° 21′ 23.24″ N 7° 54′ 34.73″ E', coordinates_grid = tuple([4,13]))\n",
    "coordinate_map_olten = add_to_dict(coordinate_dict = coordinate_map_olten, coordinates_LL = '47° 21′ 23.13″ N 7° 54′ 34.95″ E', coordinates_grid = tuple([5,13]))\n",
    "coordinate_map_olten = add_to_dict(coordinate_dict = coordinate_map_olten, coordinates_LL = '47° 21′ 27.57″ N 7° 54′ 42.14″ E', coordinates_grid = tuple([5,9]))\n",
    "coordinate_map_olten = add_to_dict(coordinate_dict = coordinate_map_olten, coordinates_LL = '47° 21′ 23.81″ N 7° 54′ 35.74″ E', coordinates_grid = tuple([5,7]))\n",
    "\n",
    "# line 8/9/10 north\n",
    "coordinate_map_olten = add_to_dict(coordinate_dict = coordinate_map_olten, coordinates_LL = '47° 21′ 22.99″ N 7° 54′ 37.29″ E', coordinates_grid = tuple([7,12]))\n",
    "coordinate_map_olten = add_to_dict(coordinate_dict = coordinate_map_olten, coordinates_LL = '47° 21′ 24.26″ N 7° 54′ 40.05″ E', coordinates_grid = tuple([8,9]))\n",
    "coordinate_map_olten = add_to_dict(coordinate_dict = coordinate_map_olten, coordinates_LL = '47° 21′ 22.88″ N 7° 54′ 37.56″ E', coordinates_grid = tuple([9,11]))\n",
    "coordinate_map_olten = add_to_dict(coordinate_dict = coordinate_map_olten, coordinates_LL = '47° 21′ 54.30″ N 7° 55′ 04.66″ E', coordinates_grid = tuple([11,27]))\n",
    "coordinate_map_olten = add_to_dict(coordinate_dict = coordinate_map_olten, coordinates_LL = '47° 21′ 58.11″ N 7° 55′ 03.29″ E', coordinates_grid = tuple([16,29]))\n",
    "coordinate_map_olten = add_to_dict(coordinate_dict = coordinate_map_olten, coordinates_LL = '47° 21′ 45.89″ N 7° 55′ 05.94″ E', coordinates_grid = tuple([11,24]))\n",
    "coordinate_map_olten = add_to_dict(coordinate_dict = coordinate_map_olten, coordinates_LL = '47° 21′ 45.89″ N 7° 55′ 06.12″ E', coordinates_grid = tuple([12,24]))\n",
    "\n",
    "# lines east\n",
    "coordinate_map_olten = add_to_dict(coordinate_dict = coordinate_map_olten, coordinates_LL = '47° 21′ 34.87″ N 7° 54′ 55.33″ E', coordinates_grid = tuple([2,20]))\n",
    "coordinate_map_olten = add_to_dict(coordinate_dict = coordinate_map_olten, coordinates_LL = '47° 21′ 38.57″ N 7° 55′ 10.01″ E', coordinates_grid = tuple([15,20]))\n",
    "coordinate_map_olten = add_to_dict(coordinate_dict = coordinate_map_olten, coordinates_LL = '47° 21′ 38.39″ N 7° 55′ 10.01″ E', coordinates_grid = tuple([15,19]))\n",
    "coordinate_map_olten = add_to_dict(coordinate_dict = coordinate_map_olten, coordinates_LL = '47° 21′ 38.27″ N 7° 55′ 10.00″ E', coordinates_grid = tuple([15,18]))\n",
    "coordinate_map_olten = add_to_dict(coordinate_dict = coordinate_map_olten, coordinates_LL = '47° 21′ 38.01″ N 7° 55′ 10.00″ E', coordinates_grid = tuple([15,17]))\n",
    "\n",
    "coordinate_map_olten = add_to_dict(coordinate_dict = coordinate_map_olten, coordinates_LL = '47° 21′ 36.18″ N 7° 55′ 23.47″ E', coordinates_grid = tuple([18,21]))\n",
    "coordinate_map_olten = add_to_dict(coordinate_dict = coordinate_map_olten, coordinates_LL = '47° 21′ 36.02″ N 7° 55′ 23.33″ E', coordinates_grid = tuple([18,20]))\n",
    "coordinate_map_olten = add_to_dict(coordinate_dict = coordinate_map_olten, coordinates_LL = '47° 21′ 35.88″ N 7° 55′ 23.19″ E', coordinates_grid = tuple([18,19]))\n",
    "coordinate_map_olten = add_to_dict(coordinate_dict = coordinate_map_olten, coordinates_LL = '47° 21′ 35.77″ N 7° 55′ 23.04″ E', coordinates_grid = tuple([18,17]))\n",
    "coordinate_map_olten = add_to_dict(coordinate_dict = coordinate_map_olten, coordinates_LL = '47° 21′ 35.56″ N 7° 55′ 22.76″ E' , coordinates_grid = tuple([18,18]))\n",
    "coordinate_map_olten = add_to_dict(coordinate_dict = coordinate_map_olten, coordinates_LL = '47° 21′ 28.16″ N 7° 55′ 36.67″ E' , coordinates_grid = tuple([23,19]))\n",
    "\n",
    "# line 11\n",
    "coordinate_map_olten = add_to_dict(coordinate_dict = coordinate_map_olten, coordinates_LL = '47° 21′ 23.45″ N 7° 54′ 34.09″ E' , coordinates_grid = tuple([0,13]))\n",
    "coordinate_map_olten = add_to_dict(coordinate_dict = coordinate_map_olten, coordinates_LL = '47° 21′ 36.66″ N 7° 54′ 58.06″ E' , coordinates_grid = tuple([0,18]))\n",
    "coordinate_map_olten = add_to_dict(coordinate_dict = coordinate_map_olten, coordinates_LL = '47° 21′ 47.09″ N 7° 55′ 05.72″ E' , coordinates_grid = tuple([0,21]))\n",
    "\n",
    "# line 13\n",
    "coordinate_map_olten = add_to_dict(coordinate_dict = coordinate_map_olten, coordinates_LL = '47° 21′ 36.04″ N 7° 55′ 23.29″ E' , coordinates_grid = tuple([16,21]))\n",
    "coordinate_map_olten = add_to_dict(coordinate_dict = coordinate_map_olten, coordinates_LL = '47° 21′ 42.24″ N 7° 55′ 12.57″ E' , coordinates_grid = tuple([16,24]))\n",
    "coordinate_map_olten = add_to_dict(coordinate_dict = coordinate_map_olten, coordinates_LL = '47° 21′ 54.18″ N 7° 55′ 05.01″ E' , coordinates_grid = tuple([16,29]))\n",
    "\n",
    "# line 14\n",
    "coordinate_map_olten = add_to_dict(coordinate_dict = coordinate_map_olten, coordinates_LL = '47° 21′ 42.27″ N 7° 55′ 12.75″ E', coordinates_grid = tuple([17,23]))\n",
    "coordinate_map_olten = add_to_dict(coordinate_dict = coordinate_map_olten, coordinates_LL = '47° 21′ 58.13″ N 7° 55′ 03.59″ E', coordinates_grid = tuple([17,29]))\n",
    "\n",
    "# line 15\n",
    "coordinate_map_olten = add_to_dict(coordinate_dict = coordinate_map_olten, coordinates_LL = '47° 21′ 51.26″ N 7° 55′ 06.00″ E', coordinates_grid = tuple([13,27]))\n",
    "coordinate_map_olten = add_to_dict(coordinate_dict = coordinate_map_olten, coordinates_LL = '47° 21′ 54.55″ N 7° 55′ 04.85″ E', coordinates_grid = tuple([17,27]))\n",
    "\n",
    "# cross\n",
    "coordinate_map_olten = add_to_dict(coordinate_dict = coordinate_map_olten, coordinates_LL = '47° 21′ 17.79″ N 7° 54′ 31.16″ E', coordinates_grid = tuple([5,11]))\n",
    "coordinate_map_olten = add_to_dict(coordinate_dict = coordinate_map_olten, coordinates_LL = '47° 21′ 15.85″ N 7° 54′ 30.72″ E', coordinates_grid = tuple([5,9]))"
   ]
  },
  {
   "cell_type": "code",
   "execution_count": null,
   "metadata": {},
   "outputs": [],
   "source": [
    "# transform grid coordinates such that (0,0) is in the top right corner\n",
    "\n",
    "def grid_coordinates(coords: tuple, coord_origin: tuple = coord_origin, grid_shape: tuple = grid_shape):\n",
    "    x, y = coords\n",
    "    x0, y0 = coord_origin\n",
    "    w, h = grid_shape\n",
    "    \n",
    "    i = h - y0 - y - 1\n",
    "    j = x + x0\n",
    "    \n",
    "    return (i, j)"
   ]
  },
  {
   "cell_type": "code",
   "execution_count": null,
   "metadata": {},
   "outputs": [],
   "source": [
    "# transform and interpolate train lines\n",
    "\n",
    "import pandas as pd\n",
    "\n",
    "def transform_line_latlon(line: list, coordinate_map: dict):\n",
    "    df = pd.DataFrame()\n",
    "\n",
    "    df['line'] = line\n",
    "    df['latlon'] = df['line'].map(coordinate_map)\n",
    "\n",
    "    df['lat'] = df['latlon'].apply(lambda x: x[0] if type(x) == tuple else np.nan).interpolate()\n",
    "    df['lon'] = df['latlon'].apply(lambda x: x[1] if type(x) == tuple else np.nan).interpolate()\n",
    "\n",
    "    return list(zip(df['lat'],df['lon']))"
   ]
  },
  {
   "cell_type": "code",
   "execution_count": null,
   "metadata": {},
   "outputs": [],
   "source": [
    "# set crossings as overpasses\n",
    "list_crossings = [tuple([11,20]), tuple([12,20]), tuple([11,19]), tuple([12,19]), tuple([11,18]), tuple([12,18]), tuple([11,17]), tuple([12,17])]\n",
    "\n",
    "level_free_positions = set([grid_coordinates(i) for i in list_crossings])"
   ]
  },
  {
   "cell_type": "code",
   "execution_count": null,
   "metadata": {},
   "outputs": [],
   "source": [
    "# interpolate train lines\n",
    "\n",
    "lines = [line_1, line_2, line_3, line_4, line_5, line_6, line_7, line_8, line_9, line_10, line_11, line_12, line_13, line_14, line_15, line_cross]\n",
    "\n",
    "for line in lines:\n",
    "    transformed_line = transform_line_latlon(line, coordinate_map_olten)\n",
    "\n",
    "    for coords, coordsLL in zip(line, transformed_line):\n",
    "        coordinate_map_olten[coords] = coordsLL"
   ]
  },
  {
   "cell_type": "code",
   "execution_count": null,
   "metadata": {},
   "outputs": [],
   "source": [
    "# transform to grid coordinates\n",
    "olten_coordinate_map = {grid_coordinates(i):j for (i,j) in coordinate_map_olten.items()}"
   ]
  },
  {
   "cell_type": "markdown",
   "metadata": {},
   "source": [
    "## Lines / Agents"
   ]
  },
  {
   "cell_type": "code",
   "execution_count": null,
   "metadata": {},
   "outputs": [],
   "source": [
    "from flatland.envs.timetable_utils import Line, Timetable"
   ]
  },
  {
   "cell_type": "code",
   "execution_count": null,
   "metadata": {},
   "outputs": [],
   "source": [
    "# scenario Olten values\n",
    "\n",
    "speed_s = 0.6 # S-Bahn (S)\n",
    "speed_re = 0.7 # Regioexpress (RE)\n",
    "speed_ir = 0.9 # Interregio (IR)\n",
    "speed_ic = 1 # Intercity (IC)\n",
    "speed_ec = 1 # Eurocity (EC)\n",
    "\n",
    "seconds_per_cell = 3 # time in [s] to travel through one cell"
   ]
  },
  {
   "cell_type": "code",
   "execution_count": null,
   "metadata": {},
   "outputs": [],
   "source": [
    "# translate time into step\n",
    "import re\n",
    "\n",
    "def time_to_step(time: str, time_per_cell: int = seconds_per_cell):\n",
    "    \n",
    "    # input pattern for the time: 'hh:mm', 'hh:mm:ss', 'hh.mm', 'hh.mm.ss', 'hh-mm', or 'hh-mm-ss'\n",
    "    two_part_pattern = r'^(\\d{2})([:.-])(\\d{2})$'\n",
    "    three_part_pattern = r'^(\\d{2})([:.-])(\\d{2})\\2(\\d{2})$'\n",
    "    \n",
    "    match = re.match(two_part_pattern, time)\n",
    "    if match:\n",
    "        h = int(match.group(1))\n",
    "        m = int(match.group(3))\n",
    "        return int((h * 3600 + m * 60) / seconds_per_cell)\n",
    "        \n",
    "    match = re.match(three_part_pattern, time)\n",
    "    if match:\n",
    "        h = int(match.group(1))\n",
    "        m = int(match.group(3))\n",
    "        s = int(match.group(4))\n",
    "        return int((h * 3600 + m * 60 + s) / seconds_per_cell)\n",
    "    \n",
    "    raise ValueError(f\"Invalid time format: {time}. Expected formats: 'xx:yy', 'xx:yy:zz', 'xx.yy', 'xx.yy.zz', 'xx-yy', or 'xx-yy-zz'\")\n",
    "\n",
    "    \n",
    "# translate a list of times into a list of steps\n",
    "\n",
    "def list_to_step(list_times: list):\n",
    "    steps = []\n",
    "    \n",
    "    for time in list_times:\n",
    "        if time == None:\n",
    "            steps.append(None)\n",
    "        else:\n",
    "            steps.append(time_to_step(time))\n",
    "    \n",
    "    return steps    "
   ]
  },
  {
   "cell_type": "code",
   "execution_count": null,
   "metadata": {},
   "outputs": [],
   "source": [
    "# train lines\n",
    "## EAST = 1, NORTH = 0, SOUTH = 2, WEST = 3\n",
    "\n",
    "import pandas as pd\n",
    "\n",
    "df_olten_timetable = pd.DataFrame(columns = ['positions', 'directions', 'target', 'speed', 'earliest_departure', 'latest_arrival'], dtype=object)\n",
    "\n",
    "df_olten_timetable.loc[df_olten_timetable.shape[0]] = [[olten1,trimbach2], [0,3], end2north, speed_s, ['00:00','00:06',None], [None,'00:06','00:08']] # Sissach via Trimbach\n",
    "df_olten_timetable.loc[df_olten_timetable.shape[0]] = [[olten8], [2], end6south, speed_ic, ['00:02',None], [None,'00:04']] # Genf\n",
    "df_olten_timetable.loc[df_olten_timetable.shape[0]] = [[olten3], [2], end6south, speed_ic, ['00:02',None], [None,'00:04']] # Lausanne\n",
    "df_olten_timetable.loc[df_olten_timetable.shape[0]] = [[olten2], [0], end4east, speed_ir, ['00:02',None], [None,'00:05']] # Zürich\n",
    "df_olten_timetable.loc[df_olten_timetable.shape[0]] = [[end7south,olten10], [0,0], end4east, speed_s, ['00:02','00:05',None], [None,'00:05','00:10']] # Baden\n",
    "df_olten_timetable.loc[df_olten_timetable.shape[0]] = [[olten9], [2], end6south, speed_ir, ['00:05',None], [None,'00:08']] # Bern\n",
    "df_olten_timetable.loc[df_olten_timetable.shape[0]] = [[olten11], [2], end9south, speed_re, ['00:06',None], [None,'00:08']] # Luzern\n",
    "df_olten_timetable.loc[df_olten_timetable.shape[0]] = [[end14north], [2], olten11, speed_s, ['00:05',None], [None,'00:10']] # von Basel\n",
    "df_olten_timetable.loc[df_olten_timetable.shape[0]] = [[olten1,hammer2], [2,3], end2south, speed_s, ['00:11','00:13',None], [None,'00:13','00:15']] # Langendorf via Hammer\n",
    "df_olten_timetable.loc[df_olten_timetable.shape[0]] = [[olten10], [0], end10north, speed_ir, ['00:12',None], [None,'00:16']] # Basel\n",
    "df_olten_timetable.loc[df_olten_timetable.shape[0]] = [[end7east,olten9], [3,2], end9south, speed_s, ['00:07','00:12',None], [None,'00:12','00:15']] # Zofigen\n",
    "df_olten_timetable.loc[df_olten_timetable.shape[0]] = [[olten12], [2], end9south, speed_s, ['00:16',None], [None,'00:19']] # Langenthal\n",
    "df_olten_timetable.loc[df_olten_timetable.shape[0]] = [[olten11], [0], end10north, speed_s, ['00:17',None], [None,'00:22']] # Basel\n",
    "df_olten_timetable.loc[df_olten_timetable.shape[0]] = [[end5south,olten7], [0,0], end4east, speed_ic, ['00:17','00:20',None], [None,'00:20','00:23']] # Rohrschach\n",
    "df_olten_timetable.loc[df_olten_timetable.shape[0]] = [[end7east], [3], olten3, speed_s, ['00:15','00:20',None], [None,'00:21']] # von Rotkreuz\n",
    "df_olten_timetable.loc[df_olten_timetable.shape[0]] = [[end7south,olten9], [0,0], end4east, speed_s, ['00:20','00:23',None], [None,'00:23','00:28']] # Turgi\n",
    "df_olten_timetable.loc[df_olten_timetable.shape[0]] = [[end2south,hammer2], [1,1], olten1, speed_s, ['00:18','00:20',None], [None,'00:20','00:24']] # von Biel\n",
    "df_olten_timetable.loc[df_olten_timetable.shape[0]] = [[end7east], [3], olten3, speed_re, ['00:20',None], [None,'00:24']] # von Wettingen\n",
    "df_olten_timetable.loc[df_olten_timetable.shape[0]] = [[end14north,olten11], [2,2], end6south, speed_ic, ['00:25','00:29',None], [None,'00:29','00:32']] # Brig\n",
    "df_olten_timetable.loc[df_olten_timetable.shape[0]] = [[end7south,olten10], [0,0], end10north, speed_ir, ['00:28','00:30',None], [None,'00:30','00:34']] # Basel\n",
    "df_olten_timetable.loc[df_olten_timetable.shape[0]] = [[end14north,olten12], [2,2], end7south, speed_ir, ['00:26','00:30',None], [None,'00:30','00:32']] # Locarno\n",
    "df_olten_timetable.loc[df_olten_timetable.shape[0]] = [[end7south,olten7], [0,0], end4east, speed_ic, ['00:29','00:31',None], [None,'00:31','00:34']] # Romanshorn\n",
    "df_olten_timetable.loc[df_olten_timetable.shape[0]] = [[end5south,olten4], [0,0], end10north, speed_ic, ['00:30','00:33',None], [None,'00:33','00:37']] # Basel\n",
    "df_olten_timetable.loc[df_olten_timetable.shape[0]] = [[olten3], [0], end4east, speed_re, ['00:35',None], [None,'00:40']] # Zürich\n",
    "df_olten_timetable.loc[df_olten_timetable.shape[0]] = [[olten1,hammer2], [2,3], end2south, speed_s, ['00:35','00:37',None], [None,'00:37','00:39']] # Biel via Hammer\n",
    "df_olten_timetable.loc[df_olten_timetable.shape[0]] = [[olten10], [0], end10north, speed_s, ['00:36',None], [None,'00:41']] # Basel\n",
    "df_olten_timetable.loc[df_olten_timetable.shape[0]] = [[end7east,olten9], [3,2], end6south, speed_ir, ['00:32','00:36',None], [None,'00:36','00:39']] # Bern\n",
    "df_olten_timetable.loc[df_olten_timetable.shape[0]] = [[end7east,olten11], [3,2], end9south, speed_s, ['00:31','00:36',None], [None,'00:36','00:39']] # Sursee\n",
    "df_olten_timetable.loc[df_olten_timetable.shape[0]] = [[olten3], [0], end7east, speed_re, ['00:37',None], [None,'00:41']] # Arth-Goldau\n",
    "df_olten_timetable.loc[df_olten_timetable.shape[0]] = [[end14north], [2], olten11, speed_s, ['00:35',None], [None,'00:40']] # von Basel\n",
    "df_olten_timetable.loc[df_olten_timetable.shape[0]] = [[end7south], [0], olten10, speed_s, ['00:37',None], [None,'00:40']] # von Langenthal\n",
    "df_olten_timetable.loc[df_olten_timetable.shape[0]] = [[end7east,olten8], [3,2], end6south, speed_ic, ['00:38','00:41',None], [None,'00:41','00:43']] # Lausanne\n",
    "df_olten_timetable.loc[df_olten_timetable.shape[0]] = [[olten11], [0], end10north, speed_s, ['00:48',None], [None,'00:53']] # Basel\n",
    "df_olten_timetable.loc[df_olten_timetable.shape[0]] = [[end14north,olten12], [2,2], end9south, speed_ir, ['00:45','00:49',None], [None,'00:49','00:51']] # Luzern\n",
    "df_olten_timetable.loc[df_olten_timetable.shape[0]] = [[end7south,olten8], [0,0], end4east, speed_s, ['00:46','00:49',None], [None,'00:49','00:54']] # Turgi\n",
    "df_olten_timetable.loc[df_olten_timetable.shape[0]] = [[end2south,hammer2], [1,1], olten1, speed_s, ['00:44','00:46',None], [None,'00:46','00:50']] # von Langendorf\n",
    "df_olten_timetable.loc[df_olten_timetable.shape[0]] = [[end7south], [0], olten11, speed_re, ['00:50',None], [None,'00:52']] # von Luzern\n",
    "df_olten_timetable.loc[df_olten_timetable.shape[0]] = [[end7east,olten9], [3,2], end9south, speed_s, ['00:50','00:55',None], [None,'00:55','00:58']] # Langenthal\n",
    "df_olten_timetable.loc[df_olten_timetable.shape[0]] = [[end7east,olten8], [3,2], end6south, speed_ir, ['00:52','00:56',None], [None,'00:56','00:59']] # Bern\n",
    "df_olten_timetable.loc[df_olten_timetable.shape[0]] = [[end14north,olten12], [2,2], end6south, speed_ec, ['00:54','00:58',None], [None,'00:58','01:01']] # Domodossola\n",
    "df_olten_timetable.loc[df_olten_timetable.shape[0]] = [[end2south,olten2], [1,0], end4east, speed_ic, ['00:57','00:59',None], [None,'00:59','01:02']] # Zürich\n",
    "\n",
    "# thoroughfares\n",
    "df_olten_timetable.loc[df_olten_timetable.shape[0]] = [[end5south], [0], end4east, speed_ic, ['00:28',None], [None,'00:33']] # Bern > Zürich\n",
    "df_olten_timetable.loc[df_olten_timetable.shape[0]] = [[end5south], [0], end4east, speed_ic, ['00:57',None], [None,'01:02']] # Bern > Zürich\n",
    "df_olten_timetable.loc[df_olten_timetable.shape[0]] = [[end7east], [3], end6south, speed_ic, ['00:27',None], [None,'00:32']] # Zürich > Bern\n",
    "df_olten_timetable.loc[df_olten_timetable.shape[0]] = [[end7east], [3], end6south, speed_ic, ['00:56',None], [None,'01:01']] # Zürich > Bern\n",
    "df_olten_timetable.loc[df_olten_timetable.shape[0]] = [[end12east], [3], end10north, speed_ic, ['00:00',None], [None,'00:02']] # Zürich > Basel\n",
    "df_olten_timetable.loc[df_olten_timetable.shape[0]] = [[end12east], [3], end10north, speed_ic, ['00:25',None], [None,'00:27']] # Zürich > Basel\n",
    "df_olten_timetable.loc[df_olten_timetable.shape[0]] = [[end12east], [3], end10north, speed_ic, ['00:40',None], [None,'00:42']] # Zürich > Basel\n",
    "df_olten_timetable.loc[df_olten_timetable.shape[0]] = [[end14north], [2], end14east, speed_ic, ['00:00',None], [None,'00:02']] # Basel > Zürich\n",
    "df_olten_timetable.loc[df_olten_timetable.shape[0]] = [[end14north], [2], end14east, speed_ic, ['00:14',None], [None,'00:16']] # Basel > Zürich\n",
    "df_olten_timetable.loc[df_olten_timetable.shape[0]] = [[end14north], [2], end14east, speed_ic, ['00:32',None], [None,'00:34']] # Basel > Zürich\n",
    "df_olten_timetable.loc[df_olten_timetable.shape[0]] = [[end14north], [2], end14east, speed_ic, ['00:55',None], [None,'00:57']] # Basel > Zürich"
   ]
  },
  {
   "cell_type": "code",
   "execution_count": null,
   "metadata": {},
   "outputs": [],
   "source": [
    "STEPS_ONE_HOUR=1300 # 1h + additional time for agents to leave the map"
   ]
  },
  {
   "cell_type": "code",
   "execution_count": null,
   "metadata": {},
   "outputs": [],
   "source": [
    "# build Line element and timetable\n",
    "\n",
    "df_olten_timetable['agent_positions'] = df_olten_timetable['positions'].apply(lambda x: [grid_coordinates(i) for i in x])\n",
    "\n",
    "agent_positions = df_olten_timetable['agent_positions'].tolist()\n",
    "agent_directions = df_olten_timetable['directions'].tolist()\n",
    "agent_targets = [grid_coordinates(i) for i in df_olten_timetable['target'].tolist()]\n",
    "agent_speeds = df_olten_timetable['speed'].tolist()\n",
    "\n",
    "earliest_departures = df_olten_timetable['earliest_departure'].apply(lambda x: list_to_step(x)).tolist()\n",
    "latest_arrivals = df_olten_timetable['latest_arrival'].apply(lambda x: list_to_step(x)).tolist()\n",
    "\n",
    "olten_line = Line(agent_positions = agent_positions, agent_directions = agent_directions, agent_targets = agent_targets, agent_speeds = agent_speeds)\n",
    "\n",
    "olten_timetable = Timetable(earliest_departures = earliest_departures, latest_arrivals = latest_arrivals, max_episode_steps = STEPS_ONE_HOUR)"
   ]
  },
  {
   "cell_type": "code",
   "execution_count": null,
   "metadata": {},
   "outputs": [],
   "source": [
    "# build Line element and timetable for alternative scenario \"partially closed station\"\n",
    "\n",
    "df_olten_timetable_partially_closed_station = df_olten_timetable.copy()\n",
    "\n",
    "# replace stops at closed tracks with valid ones\n",
    "# replace track 1\n",
    "df_olten_timetable_partially_closed_station['positions'] = df_olten_timetable_partially_closed_station['positions'].apply(lambda lst: [olten4 if x == olten1 else x for x in lst]) \n",
    "df_olten_timetable_partially_closed_station['target'] = df_olten_timetable_partially_closed_station['target'].apply(lambda x: olten4 if x == olten1 else x)\n",
    "# replace track 2\n",
    "df_olten_timetable_partially_closed_station['positions'] = df_olten_timetable_partially_closed_station['positions'].apply(lambda lst: [olten4 if x == olten2 else x for x in lst]) \n",
    "df_olten_timetable_partially_closed_station['target'] = df_olten_timetable_partially_closed_station['target'].apply(lambda x: olten4 if x == olten2 else x)\n",
    "# replace track 3\n",
    "df_olten_timetable_partially_closed_station['positions'] = df_olten_timetable_partially_closed_station['positions'].apply(lambda lst: [olten4 if x == olten3 else x for x in lst])\n",
    "df_olten_timetable_partially_closed_station['target'] = df_olten_timetable_partially_closed_station['target'].apply(lambda x: olten4 if x == olten3 else x)\n",
    "# replace track 8\n",
    "df_olten_timetable_partially_closed_station['positions'] = df_olten_timetable_partially_closed_station['positions'].apply(lambda lst: [olten7 if x == olten8 else x for x in lst])\n",
    "df_olten_timetable_partially_closed_station['target'] = df_olten_timetable_partially_closed_station['target'].apply(lambda x: olten7 if x == olten8 else x)\n",
    "# replace track 9\n",
    "df_olten_timetable_partially_closed_station['positions'] = df_olten_timetable_partially_closed_station['positions'].apply(lambda lst: [olten7 if x == olten9 else x for x in lst])\n",
    "df_olten_timetable_partially_closed_station['target'] = df_olten_timetable_partially_closed_station['target'].apply(lambda x: olten7 if x == olten9 else x)\n",
    "# replace track 10\n",
    "df_olten_timetable_partially_closed_station['positions'] = df_olten_timetable_partially_closed_station['positions'].apply(lambda lst: [olten12 if x == olten10 else x for x in lst])\n",
    "df_olten_timetable_partially_closed_station['target'] = df_olten_timetable_partially_closed_station['target'].apply(lambda x: olten12 if x == olten10 else x)\n",
    "# replace track 11\n",
    "df_olten_timetable_partially_closed_station['positions'] = df_olten_timetable_partially_closed_station['positions'].apply(lambda lst: [olten12 if x == olten11 else x for x in lst])\n",
    "df_olten_timetable_partially_closed_station['target'] = df_olten_timetable_partially_closed_station['target'].apply(lambda x: olten12 if x == olten11 else x)\n",
    "\n",
    "df_olten_timetable_partially_closed_station['agent_positions'] = df_olten_timetable_partially_closed_station['positions'].apply(lambda x: [grid_coordinates(i) for i in x])\n",
    "\n",
    "agent_positions = df_olten_timetable_partially_closed_station['agent_positions'].tolist()\n",
    "agent_directions = df_olten_timetable_partially_closed_station['directions'].tolist()\n",
    "agent_targets = [grid_coordinates(i) for i in df_olten_timetable_partially_closed_station['target'].tolist()]\n",
    "agent_speeds = df_olten_timetable_partially_closed_station['speed'].tolist()\n",
    "\n",
    "earliest_departures = df_olten_timetable_partially_closed_station['earliest_departure'].apply(lambda x: list_to_step(x)).tolist()\n",
    "latest_arrivals = df_olten_timetable_partially_closed_station['latest_arrival'].apply(lambda x: list_to_step(x)).tolist()\n",
    "\n",
    "olten_line_partially_closed_station = Line(agent_positions = agent_positions, agent_directions = agent_directions, agent_targets = agent_targets, agent_speeds = agent_speeds)\n",
    "\n",
    "olten_timetable_partially_closed_station = Timetable(earliest_departures = earliest_departures, latest_arrivals = latest_arrivals, max_episode_steps = STEPS_ONE_HOUR)"
   ]
  },
  {
   "cell_type": "code",
   "execution_count": null,
   "metadata": {},
   "outputs": [],
   "source": [
    "olten_line"
   ]
  },
  {
   "cell_type": "code",
   "execution_count": null,
   "metadata": {},
   "outputs": [],
   "source": [
    "olten_timetable"
   ]
  },
  {
   "cell_type": "markdown",
   "metadata": {},
   "source": [
    "## Visualize Infrastructure Elements on the Map"
   ]
  },
  {
   "cell_type": "code",
   "execution_count": null,
   "metadata": {},
   "outputs": [],
   "source": [
    "import folium"
   ]
  },
  {
   "cell_type": "code",
   "execution_count": null,
   "metadata": {},
   "outputs": [],
   "source": [
    "m = folium.Map(location=(47.35333, 7.907785), zoom_start=14)\n",
    "\n",
    "lines = [line_1, line_2, line_3, line_4, line_5, line_6, line_7, line_8, line_9, line_10, line_11, line_12, line_13, line_14, line_15, line_cross]\n",
    "colors = ['cadetblue', 'darkred', 'beige', 'gray', 'black', 'lightgreen', 'purple', 'orange', 'blue', 'white', 'red', 'lightblue', 'darkpurple', 'lightred', 'darkblue', 'green', 'pink', 'darkgreen', 'lightgray']\n",
    "\n",
    "for line, color in zip(lines, colors):\n",
    "    transformed_line = transform_line_latlon(line, coordinate_map_olten)\n",
    "    \n",
    "    for coord in transformed_line:\n",
    "         # if np.isnan(coord).any(): continue\n",
    "            \n",
    "        folium.Marker(\n",
    "            location = [coord[0], coord[1]],\n",
    "            tooltip = coord,\n",
    "            # https://fontawesome.com/v4/icons/\n",
    "            icon = folium.Icon(icon=\"crosshairs\", prefix=\"fa\", color=color)\n",
    "        ).add_to(m)\n",
    "\n",
    "m"
   ]
  },
  {
   "cell_type": "markdown",
   "metadata": {},
   "source": [
    "## Flatland Env"
   ]
  },
  {
   "cell_type": "code",
   "execution_count": null,
   "metadata": {},
   "outputs": [],
   "source": [
    "from flatland.core.transition_map import GridTransitionMap\n",
    "from flatland.core.grid.rail_env_grid import RailEnvTransitions, RailEnvTransitionsEnum\n",
    "from flatland.envs.rail_env import RailEnv\n",
    "from flatland.envs.agent_utils import EnvAgent\n",
    "from flatland.utils.rendertools import RenderTool\n",
    "from flatland.envs.rail_env_action import RailEnvActions\n",
    "from flatland.core.grid.grid4 import Grid4TransitionsEnum\n",
    "from flatland.envs.malfunction_generators import ParamMalfunctionGen, MalfunctionParameters\n",
    "\n",
    "from flatland.env_generation.env_generator import env_generator\n",
    "\n",
    "from matplotlib import pyplot as plt"
   ]
  },
  {
   "cell_type": "code",
   "execution_count": null,
   "metadata": {},
   "outputs": [],
   "source": [
    "def rail_generator_from_grid_map(grid_map):\n",
    "    def rail_generator(*args,**kwargs):\n",
    "        return grid_map, {\"agents_hints\": { \"city_positions\" : {}}, \"level_free_positions\": []}\n",
    "    return rail_generator\n",
    "\n",
    "def line_generator_from_line(line):\n",
    "    def line_generator(*args,**kwargs):\n",
    "        return line\n",
    "    return line_generator\n",
    "\n",
    "def timetable_generator_from_timetable(timetable):\n",
    "    def timetable_generator(*args,**kwargs):\n",
    "        return timetable\n",
    "    return timetable_generator"
   ]
  },
  {
   "cell_type": "code",
   "execution_count": null,
   "metadata": {},
   "outputs": [],
   "source": [
    "# olten \"tout court\"\n",
    "olten_grid_map = GridTransitionMap(width=width, height=height, transitions=RailEnvTransitions())\n",
    "olten_grid_map.grid = np.array(grid)\n",
    "\n",
    "malfunction_duration_min=20\n",
    "malfunction_duration_max=50\n",
    "malfunction_interval=540\n",
    "\n",
    "env = RailEnv(\n",
    "    width=grid.shape[1], height=grid.shape[0],\n",
    "    rail_generator=rail_generator_from_grid_map(olten_grid_map),\n",
    "    line_generator=line_generator_from_line(olten_line),\n",
    "    timetable_generator=timetable_generator_from_timetable(olten_timetable),\n",
    "    malfunction_generator=ParamMalfunctionGen(MalfunctionParameters(\n",
    "        min_duration=malfunction_duration_min, \n",
    "        max_duration=malfunction_duration_max, \n",
    "        malfunction_rate=1.0 / malfunction_interval\n",
    "    )),\n",
    ")\n",
    "env.reset()\n",
    "env"
   ]
  },
  {
   "cell_type": "code",
   "execution_count": null,
   "metadata": {},
   "outputs": [],
   "source": [
    "env_renderer = RenderTool(env, gl=\"PGL\", show_debug=True)\n",
    "env_renderer.render_env(show=False, show_observations=False)\n",
    "frame = env_renderer.get_image()\n",
    "dpi = 50\n",
    "plt.figure(figsize = (frame.shape[1]/dpi, frame.shape[0]/dpi))\n",
    "plt.imshow(frame)"
   ]
  },
  {
   "cell_type": "code",
   "execution_count": null,
   "metadata": {},
   "outputs": [],
   "source": [
    "# olten_disrupted\n",
    "olten_grid_map_disrupted = GridTransitionMap(width=width, height=height, transitions=RailEnvTransitions())\n",
    "olten_grid_map_disrupted.grid = np.array(olten_grid_disrupted)\n",
    "\n",
    "malfunction_duration_min=20\n",
    "malfunction_duration_max=50\n",
    "malfunction_interval=540\n",
    "\n",
    "env_disrupted = RailEnv(\n",
    "    width=grid.shape[1], height=grid.shape[0],\n",
    "    rail_generator=rail_generator_from_grid_map(olten_grid_map_disrupted),\n",
    "    line_generator=line_generator_from_line(olten_line),\n",
    "    timetable_generator=timetable_generator_from_timetable(olten_timetable),\n",
    "    malfunction_generator=ParamMalfunctionGen(MalfunctionParameters(\n",
    "        min_duration=malfunction_duration_min, \n",
    "        max_duration=malfunction_duration_max, \n",
    "        malfunction_rate=1.0 / malfunction_interval\n",
    "    )),\n",
    ")\n",
    "env_disrupted.reset()\n",
    "env_disrupted"
   ]
  },
  {
   "cell_type": "code",
   "execution_count": null,
   "metadata": {},
   "outputs": [],
   "source": [
    "env_renderer = RenderTool(env_disrupted, gl=\"PGL\", show_debug=True)\n",
    "env_renderer.render_env(show=False, show_observations=False)\n",
    "frame = env_renderer.get_image()\n",
    "dpi = 50\n",
    "plt.figure(figsize = (frame.shape[1]/dpi, frame.shape[0]/dpi))\n",
    "plt.imshow(frame)"
   ]
  },
  {
   "cell_type": "code",
   "execution_count": null,
   "metadata": {},
   "outputs": [],
   "source": [
    "# olten_partially_closed_station\n",
    "olten_grid_map_partially_closed_station = GridTransitionMap(width=width, height=height, transitions=RailEnvTransitions())\n",
    "olten_grid_map_partially_closed_station.grid = np.array(olten_grid_partially_closed_station)\n",
    "\n",
    "malfunction_duration_min=20\n",
    "malfunction_duration_max=50\n",
    "malfunction_interval=540\n",
    "\n",
    "env_partially_closed = RailEnv(\n",
    "    width=grid.shape[1], height=grid.shape[0],\n",
    "    rail_generator=rail_generator_from_grid_map(olten_grid_map_partially_closed_station),\n",
    "    line_generator=line_generator_from_line(olten_line_partially_closed_station),\n",
    "    timetable_generator=timetable_generator_from_timetable(olten_timetable_partially_closed_station),\n",
    "    malfunction_generator=ParamMalfunctionGen(MalfunctionParameters(\n",
    "        min_duration=malfunction_duration_min, \n",
    "        max_duration=malfunction_duration_max, \n",
    "        malfunction_rate=1.0 / malfunction_interval\n",
    "    )),\n",
    ")\n",
    "env_partially_closed.reset()\n",
    "env_partially_closed"
   ]
  },
  {
   "cell_type": "code",
   "execution_count": null,
   "metadata": {},
   "outputs": [],
   "source": [
    "env_renderer = RenderTool(env_partially_closed, gl=\"PGL\", show_debug=True)\n",
    "env_renderer.render_env(show=False, show_observations=False)\n",
    "frame = env_renderer.get_image()\n",
    "dpi = 50\n",
    "plt.figure(figsize = (frame.shape[1]/dpi, frame.shape[0]/dpi))\n",
    "plt.imshow(frame)"
   ]
  },
  {
   "cell_type": "markdown",
   "metadata": {},
   "source": [
    "## Flatland Trajectory with deadlock avoidance baseline"
   ]
  },
  {
   "cell_type": "code",
   "execution_count": null,
   "metadata": {},
   "outputs": [],
   "source": [
    "from pathlib import Path\n",
    "import shutil\n",
    "\n",
    "from flatland.trajectories.trajectories import Trajectory, DISCRETE_ACTION_FNAME, TRAINS_ARRIVED_FNAME, TRAINS_POSITIONS_FNAME, SERIALISED_STATE_SUBDIR, \\\n",
    "    generate_trajectory_from_policy, generate_trajectories_from_metadata\n",
    "from flatland.evaluators.trajectory_evaluator import TrajectoryEvaluator\n",
    "from flatland.integrations.interactiveai.interactiveai import FlatlandInteractiveAICallbacks\n",
    "from flatland.callbacks.callbacks import make_multi_callbacks\n",
    "from flatland.callbacks.generate_movie_callbacks import GenerateMovieCallbacks\n",
    "\n",
    "# requires flatland-association/flatland-benchmarks-f3-deadlock-avoidance-baseline\n",
    "from flatland_baselines.deadlock_avoidance_heuristic.policy.deadlock_avoidance_policy import DeadLockAvoidancePolicy\n",
    "from flatland_baselines.deadlock_avoidance_heuristic.observation.dummy_observation import FlatlandDummyObservation"
   ]
  },
  {
   "cell_type": "code",
   "execution_count": null,
   "metadata": {},
   "outputs": [],
   "source": [
    "# requires ffmpeg binary to be installed, see https://github.com/kkroening/ffmpeg-python\n",
    "!python -m pip install python-ffmpeg"
   ]
  },
  {
   "cell_type": "code",
   "execution_count": null,
   "metadata": {},
   "outputs": [],
   "source": [
    "data_dir = Path(\"./data/olten\")\n",
    "shutil.rmtree(data_dir, ignore_errors=True)\n",
    "trajectory = Trajectory.create_from_policy(env = env, policy=DeadLockAvoidancePolicy(env=env), data_dir=data_dir, snapshot_interval=0, ep_id=\"olten\", callbacks=GenerateMovieCallbacks())"
   ]
  },
  {
   "cell_type": "code",
   "execution_count": null,
   "metadata": {},
   "outputs": [],
   "source": [
    "for i in range(150):\n",
    "    display(Image(Path(f\"./data/olten/outputs/flatland_frame_{i:04d}.png\").resolve()))"
   ]
  },
  {
   "cell_type": "code",
   "execution_count": null,
   "metadata": {},
   "outputs": [],
   "source": [
    "data_dir_disrupted = Path(\"./data/olten_disrupted\")\n",
    "shutil.rmtree(data_dir_disrupted, ignore_errors=True)\n",
    "trajectory_disrupted = Trajectory.create_from_policy(env = env_disrupted, policy=DeadLockAvoidancePolicy(env=env_disrupted), data_dir=data_dir_disrupted, snapshot_interval=0, ep_id=\"olten_disrupted\", callbacks=GenerateMovieCallbacks())"
   ]
  },
  {
   "cell_type": "code",
   "execution_count": null,
   "metadata": {},
   "outputs": [],
   "source": [
    "data_dir_partially_closed = Path(\"./data/olten_partially_closed\")\n",
    "shutil.rmtree(data_dir_partially_closed, ignore_errors=True)\n",
    "trajectory_partially_closed = Trajectory.create_from_policy(env = env_partially_closed, policy=DeadLockAvoidancePolicy(env=env_partially_closed), data_dir=data_dir_partially_closed, snapshot_interval=0, ep_id=\"olten_partially_closed\", callbacks=GenerateMovieCallbacks())"
   ]
  },
  {
   "cell_type": "markdown",
   "metadata": {},
   "source": [
    "## Package scenarios"
   ]
  },
  {
   "cell_type": "markdown",
   "metadata": {},
   "source": [
    "### Prepare geo coordinates"
   ]
  },
  {
   "cell_type": "code",
   "execution_count": null,
   "metadata": {},
   "outputs": [],
   "source": [
    "position_to_latlon_olten = {grid_coordinates(k) :v for k,v in coordinate_map_olten.items()}"
   ]
  },
  {
   "cell_type": "code",
   "execution_count": null,
   "metadata": {},
   "outputs": [],
   "source": [
    "with (data_dir / \"position_to_latlon_olten.pkl\").open(\"wb\") as file_out:\n",
    "    pickle.dump(position_to_latlon_olten, file_out)"
   ]
  },
  {
   "cell_type": "markdown",
   "metadata": {},
   "source": [
    "### Package Olten \"tout court\""
   ]
  },
  {
   "cell_type": "code",
   "execution_count": null,
   "metadata": {},
   "outputs": [],
   "source": [
    "with (data_dir / \"olten\" / \"position_to_latlon.pkl\").open(\"wb\") as file_out:\n",
    "    pickle.dump(position_to_latlon_olten, file_out)"
   ]
  },
  {
   "cell_type": "code",
   "execution_count": null,
   "metadata": {},
   "outputs": [],
   "source": [
    "VERSION=\"_v1\"\n",
    "! cd ./data && rm -f OLTEN{VERSION}.zip && zip -r OLTEN{VERSION}.zip olten/event_logs olten/serialised_state olten/position_to_latlon.pkl -x \"*.DS_Store\" -x \"*step*\" -x \"*frame*\""
   ]
  },
  {
   "cell_type": "markdown",
   "metadata": {},
   "source": [
    "### Package olten_disrupted"
   ]
  },
  {
   "cell_type": "code",
   "execution_count": null,
   "metadata": {},
   "outputs": [],
   "source": [
    "with (data_dir / \"olten_disrupted\" / \"position_to_latlon.pkl\").open(\"wb\") as file_out:\n",
    "    pickle.dump(position_to_latlon_olten, file_out)"
   ]
  },
  {
   "cell_type": "code",
   "execution_count": null,
   "metadata": {},
   "outputs": [],
   "source": [
    "VERSION=\"_v1\"\n",
    "! cd ./data && rm -f OLTEN_DISRUPTED{VERSION}.zip && zip -r OLTEN_DISRUPTED{VERSION}.zip olten_disrupted/event_logs olten_disrupted/serialised_state olten_disrupted/position_to_latlon.pkl -x \"*.DS_Store\" -x \"*step*\" -x \"*frame*\""
   ]
  },
  {
   "cell_type": "markdown",
   "metadata": {},
   "source": [
    "### Package olten_partially_closed"
   ]
  },
  {
   "cell_type": "code",
   "execution_count": null,
   "metadata": {},
   "outputs": [],
   "source": [
    "with (data_dir / \"olten_partially_closed\" / \"position_to_latlon.pkl\").open(\"wb\") as file_out:\n",
    "    pickle.dump(position_to_latlon_olten, file_out)"
   ]
  },
  {
   "cell_type": "code",
   "execution_count": null,
   "metadata": {},
   "outputs": [],
   "source": [
    "VERSION=\"_v1\"\n",
    "! cd ./data && rm -f OLTEN_PARTIALLY_CLOSED{VERSION}.zip && zip -r OLTEN_PARTIALLY_CLOSED{VERSION}.zip olten_partially_closed/event_logs olten_partially_closed/serialised_state olten_partially_closed/position_to_latlon.pkl -x \"*.DS_Store\" -x \"*step*\" -x \"*frame*\""
   ]
  },
  {
   "cell_type": "markdown",
   "metadata": {},
   "source": [
    "## Flatland InteractiveAI Integration"
   ]
  },
  {
   "cell_type": "markdown",
   "metadata": {},
   "source": [
    "### Run scenario to generate InteractiveAI contexts and events"
   ]
  },
  {
   "cell_type": "code",
   "execution_count": null,
   "metadata": {},
   "outputs": [],
   "source": [
    "# fast forward \n",
    "REALTIME=3600/STEPS_ONE_HOUR*1000\n",
    "PLAYTIME=REALTIME*0.001\n",
    "cb = FlatlandInteractiveAICallbacks(position_to_latlon_olten, collect_only=True, step_to_millis=PLAYTIME)\n",
    "TrajectoryEvaluator(trajectory, cb).evaluate(end_step=150)"
   ]
  },
  {
   "cell_type": "code",
   "execution_count": null,
   "metadata": {},
   "outputs": [],
   "source": [
    "cb.contexts"
   ]
  },
  {
   "cell_type": "code",
   "execution_count": null,
   "metadata": {},
   "outputs": [],
   "source": [
    "cb.events"
   ]
  },
  {
   "cell_type": "markdown",
   "metadata": {},
   "source": [
    "### Inspect train positions on map for one time step"
   ]
  },
  {
   "cell_type": "code",
   "execution_count": null,
   "metadata": {},
   "outputs": [],
   "source": [
    "# TODO https://stackoverflow.com/questions/61539733/how-can-i-plot-live-data-using-folium\n",
    "# https://github.com/python-visualization/folium/blob/main/tests/plugins/test_realtime.py\n",
    "\n",
    "m = folium.Map(location=(47.35333, 7.907785), zoom_start=14)\n",
    "\n",
    "STEP = 55\n",
    "\n",
    "for train in cb.contexts[55][\"data\"][\"trains\"]:\n",
    "    folium.Marker(\n",
    "        location = [train[\"latitude\"], train[\"longitude\"]],\n",
    "        tooltip = coord,\n",
    "        # https://fontawesome.com/v4/icons/\n",
    "        icon = folium.Icon(icon=\"train\", prefix=\"fa\", color=color)\n",
    "    ).add_to(m)\n",
    "m"
   ]
  }
 ],
 "metadata": {
  "hide_input": false,
  "kernelspec": {
   "display_name": "Python 3 (ipykernel)",
   "language": "python",
   "name": "python3"
  },
  "language_info": {
   "codemirror_mode": {
    "name": "ipython",
    "version": 3
   },
   "file_extension": ".py",
   "mimetype": "text/x-python",
   "name": "python",
   "nbconvert_exporter": "python",
   "pygments_lexer": "ipython3",
   "version": "3.8.10"
  },
  "latex_envs": {
   "LaTeX_envs_menu_present": true,
   "autoclose": false,
   "autocomplete": true,
   "bibliofile": "biblio.bib",
   "cite_by": "apalike",
   "current_citInitial": 1,
   "eqLabelWithNumbers": true,
   "eqNumInitial": 1,
   "hotkeys": {
    "equation": "Ctrl-E",
    "itemize": "Ctrl-I"
   },
   "labels_anchors": false,
   "latex_user_defs": false,
   "report_style_numbering": false,
   "user_envs_cfg": false
  },
  "toc": {
   "base_numbering": 1,
   "nav_menu": {},
   "number_sections": true,
   "sideBar": true,
   "skip_h1_title": false,
   "title_cell": "Table of Contents",
   "title_sidebar": "Contents",
   "toc_cell": false,
   "toc_position": {},
   "toc_section_display": true,
   "toc_window_display": false
  },
  "varInspector": {
   "cols": {
    "lenName": 16,
    "lenType": 16,
    "lenVar": 40
   },
   "kernels_config": {
    "python": {
     "delete_cmd_postfix": "",
     "delete_cmd_prefix": "del ",
     "library": "var_list.py",
     "varRefreshCmd": "print(var_dic_list())"
    },
    "r": {
     "delete_cmd_postfix": ") ",
     "delete_cmd_prefix": "rm(",
     "library": "var_list.r",
     "varRefreshCmd": "cat(var_dic_list()) "
    }
   },
   "types_to_exclude": [
    "module",
    "function",
    "builtin_function_or_method",
    "instance",
    "_Feature"
   ],
   "window_display": false
  }
 },
 "nbformat": 4,
 "nbformat_minor": 4
}
